{
  "nbformat": 4,
  "nbformat_minor": 0,
  "metadata": {
    "colab": {
      "provenance": [],
      "authorship_tag": "ABX9TyMSEEGVjI3V7JSypEPyWob7",
      "include_colab_link": true
    },
    "kernelspec": {
      "name": "python3",
      "display_name": "Python 3"
    },
    "language_info": {
      "name": "python"
    }
  },
  "cells": [
    {
      "cell_type": "markdown",
      "metadata": {
        "id": "view-in-github",
        "colab_type": "text"
      },
      "source": [
        "<a href=\"https://colab.research.google.com/github/HenrySomeCode/Transformers_From_Scratch/blob/main/Tramsformers_From_Scratch.ipynb\" target=\"_parent\"><img src=\"https://colab.research.google.com/assets/colab-badge.svg\" alt=\"Open In Colab\"/></a>"
      ]
    },
    {
      "cell_type": "markdown",
      "source": [
        "Ref: https://www.youtube.com/watch?v=acxqoltilME&t=10s"
      ],
      "metadata": {
        "id": "92L5_gAVjXZx"
      }
    },
    {
      "cell_type": "code",
      "execution_count": null,
      "metadata": {
        "id": "bMPwtErOep56",
        "colab": {
          "base_uri": "https://localhost:8080/"
        },
        "outputId": "8d17f9e6-87bd-4a29-b8b1-fb40583e6591"
      },
      "outputs": [
        {
          "output_type": "stream",
          "name": "stdout",
          "text": [
            "Collecting BPEmb\n",
            "  Downloading bpemb-0.3.4-py3-none-any.whl (19 kB)\n",
            "Requirement already satisfied: gensim in /usr/local/lib/python3.10/dist-packages (from BPEmb) (4.3.1)\n",
            "Requirement already satisfied: numpy in /usr/local/lib/python3.10/dist-packages (from BPEmb) (1.22.4)\n",
            "Requirement already satisfied: requests in /usr/local/lib/python3.10/dist-packages (from BPEmb) (2.27.1)\n",
            "Collecting sentencepiece (from BPEmb)\n",
            "  Downloading sentencepiece-0.1.99-cp310-cp310-manylinux_2_17_x86_64.manylinux2014_x86_64.whl (1.3 MB)\n",
            "\u001b[2K     \u001b[90m━━━━━━━━━━━━━━━━━━━━━━━━━━━━━━━━━━━━━━━━\u001b[0m \u001b[32m1.3/1.3 MB\u001b[0m \u001b[31m17.6 MB/s\u001b[0m eta \u001b[36m0:00:00\u001b[0m\n",
            "\u001b[?25hRequirement already satisfied: tqdm in /usr/local/lib/python3.10/dist-packages (from BPEmb) (4.65.0)\n",
            "Requirement already satisfied: scipy>=1.7.0 in /usr/local/lib/python3.10/dist-packages (from gensim->BPEmb) (1.10.1)\n",
            "Requirement already satisfied: smart-open>=1.8.1 in /usr/local/lib/python3.10/dist-packages (from gensim->BPEmb) (6.3.0)\n",
            "Requirement already satisfied: urllib3<1.27,>=1.21.1 in /usr/local/lib/python3.10/dist-packages (from requests->BPEmb) (1.26.16)\n",
            "Requirement already satisfied: certifi>=2017.4.17 in /usr/local/lib/python3.10/dist-packages (from requests->BPEmb) (2023.5.7)\n",
            "Requirement already satisfied: charset-normalizer~=2.0.0 in /usr/local/lib/python3.10/dist-packages (from requests->BPEmb) (2.0.12)\n",
            "Requirement already satisfied: idna<4,>=2.5 in /usr/local/lib/python3.10/dist-packages (from requests->BPEmb) (3.4)\n",
            "Installing collected packages: sentencepiece, BPEmb\n",
            "Successfully installed BPEmb-0.3.4 sentencepiece-0.1.99\n"
          ]
        }
      ],
      "source": [
        "!pip install BPEmb"
      ]
    },
    {
      "cell_type": "code",
      "source": [
        "import math\n",
        "import numpy as np\n",
        "import tensorflow as tf\n",
        "\n",
        "from bpemb import BPEmb"
      ],
      "metadata": {
        "id": "fQicMPozhew6"
      },
      "execution_count": null,
      "outputs": []
    },
    {
      "cell_type": "markdown",
      "source": [
        "![image.png](data:image/png;base64,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)"
      ],
      "metadata": {
        "id": "LqTVnBdfiLQy"
      }
    },
    {
      "cell_type": "code",
      "source": [
        "def scaled_dot_product_attention(queries, keys, values, mask = None):\n",
        "    \"\"\"\n",
        "    queries, keys & values are numpy arrays\n",
        "    \"\"\"\n",
        "\n",
        "    #dk\n",
        "    key_dimension = tf.cast(tf.shape(keys)[-1], tf.float32)\n",
        "    #q*k^T\n",
        "    scaled_scores = tf.matmul(queries, keys, transpose_b = True) / np.sqrt(key_dimension)\n",
        "\n",
        "    if mask is not None:\n",
        "        # cross all over the mask matrix, where the position is 0 on the mask matrix;\n",
        "        # the corresponding position on scaled_scores is then turned to negative infinity\n",
        "        scaled_scores = tf.where(mask == 0, -np.inf, scaled_scores)\n",
        "\n",
        "    # This doesn't work: attention_weights = tf.keras.layers.Softmax(scaled_scores)\n",
        "    softmax = tf.keras.layers.Softmax()\n",
        "    attention_weights = softmax(scaled_scores)\n",
        "\n",
        "    return tf.matmul(attention_weights, values), attention_weights\n"
      ],
      "metadata": {
        "id": "PsMYMWmqhs8-"
      },
      "execution_count": null,
      "outputs": []
    },
    {
      "cell_type": "code",
      "source": [
        "seq_len = 3\n",
        "embedding_dimension = 4\n",
        "\n",
        "keys = np.random.rand(seq_len,embedding_dimension)\n",
        "values = np.random.rand(seq_len,embedding_dimension)\n",
        "queries = np.random.rand(seq_len,embedding_dimension)\n",
        "\n",
        "print(keys)\n",
        "print(values)\n",
        "print(queries)"
      ],
      "metadata": {
        "colab": {
          "base_uri": "https://localhost:8080/"
        },
        "id": "EhGqPtT0i9S6",
        "outputId": "513a1d99-3004-4f9e-d988-fd58e1d2a8f0"
      },
      "execution_count": null,
      "outputs": [
        {
          "output_type": "stream",
          "name": "stdout",
          "text": [
            "[[0.78343727 0.33750013 0.04944831 0.2808233 ]\n",
            " [0.57605793 0.641889   0.56193026 0.56074   ]\n",
            " [0.68652261 0.23002444 0.33140631 0.04859217]]\n",
            "[[0.50170242 0.85506259 0.39565576 0.7338292 ]\n",
            " [0.54581225 0.33972304 0.59621842 0.70961791]\n",
            " [0.97525141 0.43817722 0.11663136 0.16561163]]\n",
            "[[3.11932388e-01 7.24068968e-01 6.48632689e-04 1.50683119e-02]\n",
            " [7.53729433e-01 6.24306763e-02 6.77630505e-01 2.06181000e-01]\n",
            " [5.67636123e-01 2.73630258e-01 4.93078073e-01 7.16830044e-02]]\n"
          ]
        }
      ]
    },
    {
      "cell_type": "code",
      "source": [
        "word_embeddings, attention_weights =scaled_dot_product_attention(queries, keys, values)\n",
        "print(word_embeddings, attention_weights)"
      ],
      "metadata": {
        "colab": {
          "base_uri": "https://localhost:8080/"
        },
        "id": "cCZFD2yhn_bN",
        "outputId": "b922cde2-f8ca-447c-eb97-909738acef62"
      },
      "execution_count": null,
      "outputs": [
        {
          "output_type": "stream",
          "name": "stdout",
          "text": [
            "tf.Tensor(\n",
            "[[0.6653363  0.54058397 0.38026693 0.5477534 ]\n",
            " [0.6715168  0.53401667 0.37716088 0.54040533]\n",
            " [0.6709213  0.5354431  0.37708277 0.54106545]], shape=(3, 4), dtype=float32) tf.Tensor(\n",
            "[[0.3301129  0.35765362 0.31223348]\n",
            " [0.31491783 0.36001757 0.32506463]\n",
            " [0.31789243 0.35812408 0.32398355]], shape=(3, 3), dtype=float32)\n"
          ]
        }
      ]
    },
    {
      "cell_type": "markdown",
      "source": [
        "Generating keys, values, keys from input"
      ],
      "metadata": {
        "id": "46JWf0M8qonz"
      }
    },
    {
      "cell_type": "code",
      "source": [
        "batch_size = 1\n",
        "sequence_len = 3\n",
        "embedding_dimension = 12\n",
        "num_heads = 3\n",
        "head_dimension = embedding_dimension // num_heads"
      ],
      "metadata": {
        "id": "emKUJfN1qTf3"
      },
      "execution_count": null,
      "outputs": []
    },
    {
      "cell_type": "code",
      "source": [
        "# A batch contains a sequence; a sequence contains three words; a word is a 12 dimensions vector\n",
        "x = np.random.rand(batch_size, sequence_len, embedding_dimension)\n",
        "x"
      ],
      "metadata": {
        "colab": {
          "base_uri": "https://localhost:8080/"
        },
        "id": "hK3u9FmRCy_Y",
        "outputId": "313c2641-db44-4366-cf2c-9e775462a4c3"
      },
      "execution_count": null,
      "outputs": [
        {
          "output_type": "execute_result",
          "data": {
            "text/plain": [
              "array([[[0.78608054, 0.21183173, 0.00566467, 0.76862847, 0.71031782,\n",
              "         0.37047427, 0.37385841, 0.98058183, 0.61360885, 0.2200685 ,\n",
              "         0.23239552, 0.65476863],\n",
              "        [0.56304497, 0.03042815, 0.05088991, 0.67399491, 0.33048417,\n",
              "         0.67481965, 0.08620614, 0.81127222, 0.30571388, 0.81243434,\n",
              "         0.03297901, 0.29107255],\n",
              "        [0.03073906, 0.33408265, 0.30904505, 0.14500541, 0.71959112,\n",
              "         0.93693232, 0.17591053, 0.06660776, 0.35629094, 0.01275942,\n",
              "         0.86410056, 0.74607064]]])"
            ]
          },
          "metadata": {},
          "execution_count": 7
        }
      ]
    },
    {
      "cell_type": "code",
      "source": [
        "# head 0\n",
        "wq0 = np.random.rand(embedding_dimension, head_dimension).round(1)\n",
        "wk0 = np.random.rand(embedding_dimension, head_dimension).round(1)\n",
        "wv0 = np.random.rand(embedding_dimension, head_dimension).round(1)\n",
        "\n",
        "# head 1\n",
        "wq1 = np.random.rand(embedding_dimension, head_dimension).round(1)\n",
        "wk1 = np.random.rand(embedding_dimension, head_dimension).round(1)\n",
        "wv1 = np.random.rand(embedding_dimension, head_dimension).round(1)\n",
        "\n",
        "# head 3\n",
        "wq2 = np.random.rand(embedding_dimension, head_dimension).round(1)\n",
        "wk2 = np.random.rand(embedding_dimension, head_dimension).round(1)\n",
        "wv2 = np.random.rand(embedding_dimension, head_dimension).round(1)"
      ],
      "metadata": {
        "id": "YyTf_S_uDvSL"
      },
      "execution_count": null,
      "outputs": []
    },
    {
      "cell_type": "code",
      "source": [
        "q0 = np.dot(x,wq0)\n",
        "k0 = np.dot(x,wk0)\n",
        "v0 = np.dot(x,wv0)\n",
        "\n",
        "q1 = np.dot(x,wq1)\n",
        "k1 = np.dot(x,wk1)\n",
        "v1 = np.dot(x,wv1)\n",
        "\n",
        "q2 = np.dot(x,wq2)\n",
        "k2 = np.dot(x,wk2)\n",
        "v2 = np.dot(x,wv2)\n"
      ],
      "metadata": {
        "id": "4sK052GfEuD1"
      },
      "execution_count": null,
      "outputs": []
    },
    {
      "cell_type": "code",
      "source": [
        "print(q0)\n",
        "print(k0)\n",
        "print(v0)"
      ],
      "metadata": {
        "colab": {
          "base_uri": "https://localhost:8080/"
        },
        "id": "5ynNCrelFTeF",
        "outputId": "faadcc17-3bd7-4002-a75a-a5b0cc567470"
      },
      "execution_count": null,
      "outputs": [
        {
          "output_type": "stream",
          "name": "stdout",
          "text": [
            "[[[3.58925325 2.65143095 2.63854003 3.69023171]\n",
            "  [2.82295369 2.14586839 1.73142059 3.12435269]\n",
            "  [1.93092831 1.84780347 2.22195193 2.72051102]]]\n",
            "[[[2.33952856 3.20214827 3.98714511 2.81381629]\n",
            "  [1.89455633 1.8579262  3.15909263 2.24504597]\n",
            "  [2.3661631  2.49715205 3.19691229 1.1895102 ]]]\n",
            "[[[2.90672254 3.30086074 2.29568125 3.57240902]\n",
            "  [2.30084791 2.51840592 1.8136239  2.38642047]\n",
            "  [2.80579626 2.93650766 2.27300657 3.08899197]]]\n"
          ]
        }
      ]
    },
    {
      "cell_type": "markdown",
      "source": [
        "From keys, values, queries calculate the final word embeddings"
      ],
      "metadata": {
        "id": "vrnSHUj3H48W"
      }
    },
    {
      "cell_type": "code",
      "source": [
        "word_embeddings0, attention_weights0 = scaled_dot_product_attention(q0,k0,v0)\n",
        "word_embeddings1, attention_weights1 = scaled_dot_product_attention(q1,k1,v1)\n",
        "word_embeddings2, attention_weights2 = scaled_dot_product_attention(q2,k2,v2)\n"
      ],
      "metadata": {
        "id": "JxCQtrNgFl10"
      },
      "execution_count": null,
      "outputs": []
    },
    {
      "cell_type": "code",
      "source": [
        "combined_out_a = np.concatenate((word_embeddings0, word_embeddings1, word_embeddings2),axis=-1)\n",
        "combined_out_a"
      ],
      "metadata": {
        "colab": {
          "base_uri": "https://localhost:8080/"
        },
        "id": "AAMI89xuGHQV",
        "outputId": "302f56ed-4979-4f22-b448-77ce9982aa2c"
      },
      "execution_count": null,
      "outputs": [
        {
          "output_type": "execute_result",
          "data": {
            "text/plain": [
              "array([[[2.9006996, 3.291412 , 2.2913005, 3.5585787, 2.4638085,\n",
              "         3.066515 , 3.182633 , 3.4608467, 3.4365816, 3.1788144,\n",
              "         2.7022674, 2.9625454],\n",
              "        [2.8901541, 3.2751093, 2.2835712, 3.534658 , 2.4572585,\n",
              "         3.045785 , 3.1372395, 3.4229867, 3.4055333, 3.126232 ,\n",
              "         2.6588664, 2.9291644],\n",
              "        [2.8846254, 3.2669306, 2.2794278, 3.5225668, 2.4656382,\n",
              "         3.0702217, 3.190379 , 3.4654315, 3.4049816, 3.1256375,\n",
              "         2.658096 , 2.9287739]]], dtype=float32)"
            ]
          },
          "metadata": {},
          "execution_count": 12
        }
      ]
    },
    {
      "cell_type": "markdown",
      "source": [
        "That's how multi-head attention works, from an embedded sequence input to another embedded sequence.\n",
        "\n",
        "This is done using three heads, each with its own query, key, and value matrices.\n",
        "\n",
        "Now I'll do the same thing, but this time, only a single query matrix, a single key matrix, and a single value matrix."
      ],
      "metadata": {
        "id": "UdzxSd65J6hE"
      }
    },
    {
      "cell_type": "code",
      "source": [
        "# I pretend to generate a single query matrix, a single key matrix,\n",
        "# and a single value matrix by merging (wq0, wq1, wq2) to wq, (wk1, wk2, wk3)\n",
        "# and (wv0,wv1,wv2) to wk and wv. So that I would have the result of the method above.\n",
        "\n",
        "wq = np.concatenate((wq0, wq1, wq2),axis=1)\n",
        "wk = np.concatenate((wk0, wk1, wk2),axis=1)\n",
        "wv = np.concatenate((wv0, wv1, wv2),axis=1)"
      ],
      "metadata": {
        "id": "wsY5ofI2LAqx"
      },
      "execution_count": null,
      "outputs": []
    },
    {
      "cell_type": "code",
      "source": [
        "wq # 12x12"
      ],
      "metadata": {
        "colab": {
          "base_uri": "https://localhost:8080/"
        },
        "id": "G3eOXTeSMhrg",
        "outputId": "c6c7fce9-49c9-450a-ee92-6e149138de70"
      },
      "execution_count": null,
      "outputs": [
        {
          "output_type": "execute_result",
          "data": {
            "text/plain": [
              "array([[0.8, 0.9, 0.5, 0.6, 0.1, 0.7, 0.1, 0.1, 0.9, 0.1, 0.3, 0.8],\n",
              "       [0.4, 0.8, 0.2, 0.7, 0.4, 0.5, 0.2, 0.9, 0.4, 0.8, 0.6, 0.1],\n",
              "       [0.1, 0.3, 1. , 0.5, 0.9, 0.8, 0.3, 0.4, 0.3, 0.4, 0.9, 0.4],\n",
              "       [0.7, 0. , 0.3, 0.9, 0.7, 0. , 0.2, 0.6, 0.2, 0.8, 0.2, 0.4],\n",
              "       [0.3, 0.7, 0.4, 0.4, 0.5, 0.2, 0. , 0.4, 0.9, 0.5, 0.4, 0.1],\n",
              "       [0. , 0.1, 0.2, 0.4, 0.8, 0.7, 0.2, 1. , 0.3, 0.4, 0.1, 0.3],\n",
              "       [0.2, 0.7, 0.4, 0.2, 0.2, 0.6, 0.9, 0. , 1. , 0.4, 0.5, 0.1],\n",
              "       [0.8, 0.3, 0.5, 0.5, 0. , 0.6, 0.4, 0.7, 0.2, 0.8, 0.8, 0.4],\n",
              "       [0.8, 0. , 0.5, 0.7, 0.1, 0.6, 0.5, 0.1, 0.7, 0.4, 0.9, 0.5],\n",
              "       [0.8, 1. , 0.1, 1. , 0.2, 0.4, 0.6, 1. , 0.4, 0.4, 0.1, 0.4],\n",
              "       [0.6, 0.3, 0.5, 0.6, 0.7, 1. , 0.6, 1. , 0.5, 0.9, 0.7, 0.2],\n",
              "       [0.7, 0.6, 0.8, 0.9, 0.7, 0.1, 0.9, 0.5, 0.1, 0.1, 0.3, 0.1]])"
            ]
          },
          "metadata": {},
          "execution_count": 14
        }
      ]
    },
    {
      "cell_type": "code",
      "source": [
        "q = np.dot(x,wq)\n",
        "k = np.dot(x,wk)\n",
        "v = np.dot(x,wv)"
      ],
      "metadata": {
        "id": "QcFRclK6M258"
      },
      "execution_count": null,
      "outputs": []
    },
    {
      "cell_type": "code",
      "source": [
        "q"
      ],
      "metadata": {
        "colab": {
          "base_uri": "https://localhost:8080/"
        },
        "id": "s3nTSEgNNTcx",
        "outputId": "f8dc0179-78ea-4095-fbd9-b1ae51d02ac6"
      },
      "execution_count": null,
      "outputs": [
        {
          "output_type": "execute_result",
          "data": {
            "text/plain": [
              "array([[[3.58925325, 2.65143095, 2.63854003, 3.69023171, 2.15917839,\n",
              "         2.62882877, 2.24677426, 2.91491746, 2.9672616 , 2.9107033 ,\n",
              "         2.74767859, 2.07834529],\n",
              "        [2.82295369, 2.14586839, 1.73142059, 3.12435269, 1.72830651,\n",
              "         2.09750343, 1.67158468, 2.90486764, 2.00189014, 2.26491675,\n",
              "         1.72635977, 1.82559027],\n",
              "        [1.93092831, 1.84780347, 2.22195193, 2.72051102, 2.82617563,\n",
              "         2.53866247, 1.93967911, 3.07128814, 2.16212136, 2.36809898,\n",
              "         2.19021345, 1.06756907]]])"
            ]
          },
          "metadata": {},
          "execution_count": 16
        }
      ]
    },
    {
      "cell_type": "markdown",
      "source": [
        "What I want here is to convert the q above to some kind of q0, q1, q2 that I have done before:"
      ],
      "metadata": {
        "id": "NYLRCd5LQCN2"
      }
    },
    {
      "cell_type": "code",
      "source": [
        "print(q0, \"\\n\")\n",
        "print(q1, \"\\n\")\n",
        "print(q2)"
      ],
      "metadata": {
        "colab": {
          "base_uri": "https://localhost:8080/"
        },
        "id": "LtbioU4yP6_Y",
        "outputId": "d0bfeeca-ba6e-4744-c5a0-539a0fc1a2c9"
      },
      "execution_count": null,
      "outputs": [
        {
          "output_type": "stream",
          "name": "stdout",
          "text": [
            "[[[3.58925325 2.65143095 2.63854003 3.69023171]\n",
            "  [2.82295369 2.14586839 1.73142059 3.12435269]\n",
            "  [1.93092831 1.84780347 2.22195193 2.72051102]]] \n",
            "\n",
            "[[[2.15917839 2.62882877 2.24677426 2.91491746]\n",
            "  [1.72830651 2.09750343 1.67158468 2.90486764]\n",
            "  [2.82617563 2.53866247 1.93967911 3.07128814]]] \n",
            "\n",
            "[[[2.9672616  2.9107033  2.74767859 2.07834529]\n",
            "  [2.00189014 2.26491675 1.72635977 1.82559027]\n",
            "  [2.16212136 2.36809898 2.19021345 1.06756907]]]\n"
          ]
        }
      ]
    },
    {
      "cell_type": "code",
      "source": [
        "f = np.random.rand(1,3,12)\n",
        "a = tf.reshape(f,(1,-1,3,4))\n",
        "a.shape"
      ],
      "metadata": {
        "colab": {
          "base_uri": "https://localhost:8080/"
        },
        "id": "gTScBhDWDF0y",
        "outputId": "4cabf4e5-7454-43ed-e183-77267f989fa4"
      },
      "execution_count": null,
      "outputs": [
        {
          "output_type": "execute_result",
          "data": {
            "text/plain": [
              "TensorShape([1, 3, 3, 4])"
            ]
          },
          "metadata": {},
          "execution_count": 18
        }
      ]
    },
    {
      "cell_type": "code",
      "source": [
        "f.shape[-1]"
      ],
      "metadata": {
        "colab": {
          "base_uri": "https://localhost:8080/"
        },
        "id": "zxu9tNIkD32n",
        "outputId": "9021373e-7978-46e5-d11f-9218e7b92fa6"
      },
      "execution_count": null,
      "outputs": [
        {
          "output_type": "execute_result",
          "data": {
            "text/plain": [
              "12"
            ]
          },
          "metadata": {},
          "execution_count": 19
        }
      ]
    },
    {
      "cell_type": "code",
      "source": [
        "q_reshape = tf.reshape(q,(batch_size, seq_len, num_heads, head_dimension))\n",
        "q_reshape"
      ],
      "metadata": {
        "colab": {
          "base_uri": "https://localhost:8080/"
        },
        "id": "XJ816si6OJaS",
        "outputId": "7f1d9782-ca1d-4974-90b6-f728218ba319"
      },
      "execution_count": null,
      "outputs": [
        {
          "output_type": "execute_result",
          "data": {
            "text/plain": [
              "<tf.Tensor: shape=(1, 3, 3, 4), dtype=float64, numpy=\n",
              "array([[[[3.58925325, 2.65143095, 2.63854003, 3.69023171],\n",
              "         [2.15917839, 2.62882877, 2.24677426, 2.91491746],\n",
              "         [2.9672616 , 2.9107033 , 2.74767859, 2.07834529]],\n",
              "\n",
              "        [[2.82295369, 2.14586839, 1.73142059, 3.12435269],\n",
              "         [1.72830651, 2.09750343, 1.67158468, 2.90486764],\n",
              "         [2.00189014, 2.26491675, 1.72635977, 1.82559027]],\n",
              "\n",
              "        [[1.93092831, 1.84780347, 2.22195193, 2.72051102],\n",
              "         [2.82617563, 2.53866247, 1.93967911, 3.07128814],\n",
              "         [2.16212136, 2.36809898, 2.19021345, 1.06756907]]]])>"
            ]
          },
          "metadata": {},
          "execution_count": 20
        }
      ]
    },
    {
      "cell_type": "code",
      "source": [
        "q_transposed = tf.transpose(q_reshape,perm=[0,2,1,3]).numpy()\n",
        "q_transposed"
      ],
      "metadata": {
        "colab": {
          "base_uri": "https://localhost:8080/"
        },
        "id": "yHRi33ZeO7Qb",
        "outputId": "fd5f6b0e-746d-466d-91e1-46ed9cf7a741"
      },
      "execution_count": null,
      "outputs": [
        {
          "output_type": "execute_result",
          "data": {
            "text/plain": [
              "array([[[[3.58925325, 2.65143095, 2.63854003, 3.69023171],\n",
              "         [2.82295369, 2.14586839, 1.73142059, 3.12435269],\n",
              "         [1.93092831, 1.84780347, 2.22195193, 2.72051102]],\n",
              "\n",
              "        [[2.15917839, 2.62882877, 2.24677426, 2.91491746],\n",
              "         [1.72830651, 2.09750343, 1.67158468, 2.90486764],\n",
              "         [2.82617563, 2.53866247, 1.93967911, 3.07128814]],\n",
              "\n",
              "        [[2.9672616 , 2.9107033 , 2.74767859, 2.07834529],\n",
              "         [2.00189014, 2.26491675, 1.72635977, 1.82559027],\n",
              "         [2.16212136, 2.36809898, 2.19021345, 1.06756907]]]])"
            ]
          },
          "metadata": {},
          "execution_count": 21
        }
      ]
    },
    {
      "cell_type": "markdown",
      "source": [
        "Do the same thing with key and value:"
      ],
      "metadata": {
        "id": "vE5BmfK8VA3y"
      }
    },
    {
      "cell_type": "code",
      "source": [
        "k_reshape = tf.reshape(k,(batch_size, seq_len, num_heads, head_dimension))\n",
        "k_reshape"
      ],
      "metadata": {
        "colab": {
          "base_uri": "https://localhost:8080/"
        },
        "id": "YMVSyVonUZ5c",
        "outputId": "316a177a-6a5f-46c8-87e2-1f6156074442"
      },
      "execution_count": null,
      "outputs": [
        {
          "output_type": "execute_result",
          "data": {
            "text/plain": [
              "<tf.Tensor: shape=(1, 3, 3, 4), dtype=float64, numpy=\n",
              "array([[[[2.33952856, 3.20214827, 3.98714511, 2.81381629],\n",
              "         [3.57516036, 3.13289612, 3.10069068, 3.04093516],\n",
              "         [4.10644239, 2.49777126, 3.07509892, 3.44859166]],\n",
              "\n",
              "        [[1.89455633, 1.8579262 , 3.15909263, 2.24504597],\n",
              "         [2.85660234, 2.6549215 , 2.39794611, 2.64091405],\n",
              "         [2.79571751, 2.23131822, 2.32815323, 2.63344288]],\n",
              "\n",
              "        [[2.3661631 , 2.49715205, 3.19691229, 1.1895102 ],\n",
              "         [3.21192855, 2.95514817, 1.71282057, 1.81224498],\n",
              "         [2.95804733, 2.26867585, 1.59060609, 2.26358291]]]])>"
            ]
          },
          "metadata": {},
          "execution_count": 22
        }
      ]
    },
    {
      "cell_type": "code",
      "source": [
        "k_transposed = tf.transpose(k_reshape,perm=[0,2,1,3]).numpy()\n",
        "k_transposed"
      ],
      "metadata": {
        "colab": {
          "base_uri": "https://localhost:8080/"
        },
        "id": "RoE7X1ouUIN7",
        "outputId": "d353525a-c84f-4fc2-ef72-1458ca704d77"
      },
      "execution_count": null,
      "outputs": [
        {
          "output_type": "execute_result",
          "data": {
            "text/plain": [
              "array([[[[2.33952856, 3.20214827, 3.98714511, 2.81381629],\n",
              "         [1.89455633, 1.8579262 , 3.15909263, 2.24504597],\n",
              "         [2.3661631 , 2.49715205, 3.19691229, 1.1895102 ]],\n",
              "\n",
              "        [[3.57516036, 3.13289612, 3.10069068, 3.04093516],\n",
              "         [2.85660234, 2.6549215 , 2.39794611, 2.64091405],\n",
              "         [3.21192855, 2.95514817, 1.71282057, 1.81224498]],\n",
              "\n",
              "        [[4.10644239, 2.49777126, 3.07509892, 3.44859166],\n",
              "         [2.79571751, 2.23131822, 2.32815323, 2.63344288],\n",
              "         [2.95804733, 2.26867585, 1.59060609, 2.26358291]]]])"
            ]
          },
          "metadata": {},
          "execution_count": 23
        }
      ]
    },
    {
      "cell_type": "code",
      "source": [
        "v_reshape = tf.reshape(v,(batch_size, seq_len, num_heads, head_dimension))\n",
        "v_reshape"
      ],
      "metadata": {
        "colab": {
          "base_uri": "https://localhost:8080/"
        },
        "id": "O2CnFNcSUqZm",
        "outputId": "afa4f279-97be-4c7a-9e06-cf9d4891d439"
      },
      "execution_count": null,
      "outputs": [
        {
          "output_type": "execute_result",
          "data": {
            "text/plain": [
              "<tf.Tensor: shape=(1, 3, 3, 4), dtype=float64, numpy=\n",
              "array([[[[2.90672254, 3.30086074, 2.29568125, 3.57240902],\n",
              "         [2.47598513, 3.10329162, 3.26285209, 3.52616828],\n",
              "         [3.44956929, 3.19837143, 2.72041608, 2.97505534]],\n",
              "\n",
              "        [[2.30084791, 2.51840592, 1.8136239 , 2.38642047],\n",
              "         [2.22606888, 2.57926254, 2.16275381, 2.84887565],\n",
              "         [2.72024755, 2.41883634, 1.70207121, 2.46246025]],\n",
              "\n",
              "        [[2.80579626, 2.93650766, 2.27300657, 3.08899197],\n",
              "         [2.60366801, 2.72329766, 2.29150583, 2.01032939],\n",
              "         [2.97071425, 1.51759986, 2.04888071, 1.94188752]]]])>"
            ]
          },
          "metadata": {},
          "execution_count": 24
        }
      ]
    },
    {
      "cell_type": "code",
      "source": [
        "v_transposed = tf.transpose(v_reshape,perm=[0,2,1,3]).numpy()\n",
        "v_transposed"
      ],
      "metadata": {
        "colab": {
          "base_uri": "https://localhost:8080/"
        },
        "id": "1Yom0lTlUvX0",
        "outputId": "7ee10eac-5597-4f4b-af3a-11ebbe46f161"
      },
      "execution_count": null,
      "outputs": [
        {
          "output_type": "execute_result",
          "data": {
            "text/plain": [
              "array([[[[2.90672254, 3.30086074, 2.29568125, 3.57240902],\n",
              "         [2.30084791, 2.51840592, 1.8136239 , 2.38642047],\n",
              "         [2.80579626, 2.93650766, 2.27300657, 3.08899197]],\n",
              "\n",
              "        [[2.47598513, 3.10329162, 3.26285209, 3.52616828],\n",
              "         [2.22606888, 2.57926254, 2.16275381, 2.84887565],\n",
              "         [2.60366801, 2.72329766, 2.29150583, 2.01032939]],\n",
              "\n",
              "        [[3.44956929, 3.19837143, 2.72041608, 2.97505534],\n",
              "         [2.72024755, 2.41883634, 1.70207121, 2.46246025],\n",
              "         [2.97071425, 1.51759986, 2.04888071, 1.94188752]]]])"
            ]
          },
          "metadata": {},
          "execution_count": 25
        }
      ]
    },
    {
      "cell_type": "code",
      "source": [
        "word_embeddings_all_heads, attention_weights_all_heads = scaled_dot_product_attention(\n",
        "    q_transposed, k_transposed, v_transposed)\n",
        "word_embeddings_all_heads"
      ],
      "metadata": {
        "colab": {
          "base_uri": "https://localhost:8080/"
        },
        "id": "OgK0C6wtVkxh",
        "outputId": "17543765-d40d-45f3-f2b8-f4e87ad8a7cd"
      },
      "execution_count": null,
      "outputs": [
        {
          "output_type": "execute_result",
          "data": {
            "text/plain": [
              "<tf.Tensor: shape=(1, 3, 3, 4), dtype=float32, numpy=\n",
              "array([[[[2.9006994, 3.2914119, 2.2913   , 3.5585785],\n",
              "         [2.8901541, 3.2751093, 2.283571 , 3.5346577],\n",
              "         [2.8846254, 3.2669308, 2.2794278, 3.522567 ]],\n",
              "\n",
              "        [[2.4638085, 3.066515 , 3.182633 , 3.4608467],\n",
              "         [2.4572585, 3.045785 , 3.1372395, 3.4229867],\n",
              "         [2.4656382, 3.0702217, 3.1903791, 3.4654317]],\n",
              "\n",
              "        [[3.4365816, 3.1788144, 2.7022674, 2.9625454],\n",
              "         [3.405533 , 3.1262317, 2.6588664, 2.9291642],\n",
              "         [3.4049816, 3.1256375, 2.658096 , 2.9287739]]]], dtype=float32)>"
            ]
          },
          "metadata": {},
          "execution_count": 26
        }
      ]
    },
    {
      "cell_type": "code",
      "source": [
        "combine_out_b = tf.reshape(tf.transpose(word_embeddings_all_heads, perm=[0,2,1,3]),\n",
        "                           shape=(batch_size,sequence_len,embedding_dimension))"
      ],
      "metadata": {
        "id": "T1Jgj1h_XA8o"
      },
      "execution_count": null,
      "outputs": []
    },
    {
      "cell_type": "code",
      "source": [
        "combine_out_b"
      ],
      "metadata": {
        "colab": {
          "base_uri": "https://localhost:8080/"
        },
        "id": "K0PgpVrgXqOh",
        "outputId": "05f89800-b85e-4593-d09c-6011dd33bc7e"
      },
      "execution_count": null,
      "outputs": [
        {
          "output_type": "execute_result",
          "data": {
            "text/plain": [
              "<tf.Tensor: shape=(1, 3, 12), dtype=float32, numpy=\n",
              "array([[[2.9006994, 3.2914119, 2.2913   , 3.5585785, 2.4638085,\n",
              "         3.066515 , 3.182633 , 3.4608467, 3.4365816, 3.1788144,\n",
              "         2.7022674, 2.9625454],\n",
              "        [2.8901541, 3.2751093, 2.283571 , 3.5346577, 2.4572585,\n",
              "         3.045785 , 3.1372395, 3.4229867, 3.405533 , 3.1262317,\n",
              "         2.6588664, 2.9291642],\n",
              "        [2.8846254, 3.2669308, 2.2794278, 3.522567 , 2.4656382,\n",
              "         3.0702217, 3.1903791, 3.4654317, 3.4049816, 3.1256375,\n",
              "         2.658096 , 2.9287739]]], dtype=float32)>"
            ]
          },
          "metadata": {},
          "execution_count": 28
        }
      ]
    },
    {
      "cell_type": "markdown",
      "source": [
        "Multi-Head Attention & Multi-Head Cross Attention"
      ],
      "metadata": {
        "id": "cjEE_2BqTAdq"
      }
    },
    {
      "cell_type": "markdown",
      "source": [
        "![image.png](data:image/png;base64,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)"
      ],
      "metadata": {
        "id": "PEIowiuX4RXo"
      }
    },
    {
      "cell_type": "markdown",
      "source": [
        "![image.png](data:image/png;base64,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)"
      ],
      "metadata": {
        "id": "-CKI2qbbS-PP"
      }
    },
    {
      "cell_type": "code",
      "source": [
        "class MultiHeadSelfAttention(tf.keras.layers.Layer):\n",
        "    \"\"\"\n",
        "    d_model: dimension of model\n",
        "    num_heads: number of heads\n",
        "    d_head: dimension of a head\n",
        "    li_layer: linear layer to generate the final output\n",
        "    \"\"\"\n",
        "    def __init__(self,d_model, num_heads):\n",
        "        super(MultiHeadSelfAttention, self).__init__()\n",
        "        self.d_model = d_model\n",
        "        self.num_heads = num_heads\n",
        "\n",
        "        self.d_head = d_model // num_heads\n",
        "\n",
        "        self.wq = tf.keras.layers.Dense(self.d_model)\n",
        "        self.wk = tf.keras.layers.Dense(self.d_model)\n",
        "        self.wv = tf.keras.layers.Dense(self.d_model)\n",
        "\n",
        "        self.li_layer = tf.keras.layers.Dense(self.d_model)\n",
        "\n",
        "    def split_heads(self,x):\n",
        "        \"\"\"\n",
        "        x: query, key or value vector\n",
        "        \"\"\"\n",
        "        batch_size, sequence_len, embedding_dimension = x.shape\n",
        "        # print(\"split_heads x.shape: \",x.shape)\n",
        "\n",
        "        # Here's another version:\n",
        "        # split_inputs = tf.reshape(x,(batch_size, -1, self.num_heads, self.d_head))\n",
        "        # -1 means it could be any number as long as the total dimension remain the same\n",
        "        # Learn more at: https://www.tensorflow.org/api_docs/python/tf/reshape\n",
        "        split_inputs = tf.reshape(x,(batch_size, sequence_len,\n",
        "                                     self.num_heads, self.d_head))\n",
        "        return tf.transpose(split_inputs, perm=[0,2,1,3])\n",
        "\n",
        "    def merge_heads(self,x):\n",
        "        \"\"\"\n",
        "        x: word embedding outputs from uncompleted multi-head self-attention\n",
        "        x shape: batch_size, num_heads, sequence_len, d_head\n",
        "        \"\"\"\n",
        "        batch_size, num_heads, sequence_len, d_head = x.shape\n",
        "        # print(\"merge_heads x.shape: \",x.shape)\n",
        "\n",
        "        merged_outputs = tf.transpose(x, perm=[0,2,1,3])\n",
        "        return  tf.reshape(merged_outputs,(batch_size, sequence_len,\n",
        "                                     self.d_model))\n",
        "    def call(self, x,cross,k,v, mask):\n",
        "\n",
        "        if(cross==True):\n",
        "          q = self.wq(x)\n",
        "          k = self.wk(k)\n",
        "          v = self.wv(v)\n",
        "        else:\n",
        "          q = self.wq(x)\n",
        "          k = self.wk(x)\n",
        "          v = self.wv(x)\n",
        "\n",
        "        q = self.split_heads(q)\n",
        "        k = self.split_heads(k)\n",
        "        v = self.split_heads(v)\n",
        "\n",
        "        word_embedding_outputs, attention_weights = scaled_dot_product_attention(q,k,v,mask)\n",
        "        output = self.merge_heads(word_embedding_outputs)\n",
        "\n",
        "        return self.li_layer(output), attention_weights\n",
        "\n"
      ],
      "metadata": {
        "id": "jRiyYhUyYLoY"
      },
      "execution_count": null,
      "outputs": []
    },
    {
      "cell_type": "code",
      "source": [
        "mhsa = MultiHeadSelfAttention(12, 3)\n",
        "\n",
        "output, attn_weights = mhsa(x,False,None,None, None)\n",
        "print(f\"MHSA output{output.shape}:\")\n",
        "print(output)"
      ],
      "metadata": {
        "colab": {
          "base_uri": "https://localhost:8080/"
        },
        "id": "GaE5wJkYG1RQ",
        "outputId": "616a2cd5-7cd8-4a45-8d3d-b9ddf96f594c"
      },
      "execution_count": null,
      "outputs": [
        {
          "output_type": "stream",
          "name": "stdout",
          "text": [
            "MHSA output(1, 3, 12):\n",
            "tf.Tensor(\n",
            "[[[ 0.27592686  0.03763336  1.319209   -0.18736583  1.4304428\n",
            "    0.37117565 -0.10064781 -1.1951718   0.21057615  0.01418197\n",
            "   -0.24855408  0.45147872]\n",
            "  [ 0.26678896  0.05144459  1.3167199  -0.18636772  1.4272221\n",
            "    0.3677968  -0.09464031 -1.1750289   0.21750683  0.00865027\n",
            "   -0.23013952  0.44932854]\n",
            "  [ 0.26488647  0.04835939  1.3212421  -0.18052864  1.4247532\n",
            "    0.3595174  -0.09771678 -1.1796306   0.21290988  0.01017734\n",
            "   -0.2423146   0.46519774]]], shape=(1, 3, 12), dtype=float32)\n"
          ]
        }
      ]
    },
    {
      "cell_type": "markdown",
      "source": [
        "Encoder Block"
      ],
      "metadata": {
        "id": "3QOhB8MyIuj5"
      }
    },
    {
      "cell_type": "markdown",
      "source": [
        "![image.png](data:image/png;base64,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)"
      ],
      "metadata": {
        "id": "a5sps9LeKiAg"
      }
    },
    {
      "cell_type": "code",
      "source": [
        "def feed_forward_network(d_model, hidden_dim):\n",
        "    return tf.keras.Sequential([\n",
        "        tf.keras.layers.Dense(hidden_dim, activation='relu'),\n",
        "        tf.keras.layers.Dense(d_model)\n",
        "    ])"
      ],
      "metadata": {
        "id": "z0-rTcEZVvSl"
      },
      "execution_count": null,
      "outputs": []
    },
    {
      "cell_type": "code",
      "source": [
        "class EncoderBlock(tf.keras.layers.Layer):\n",
        "    def __init__(self, d_model, num_heads, hidden_dim, dropout_rate=0.1):\n",
        "        super(EncoderBlock, self).__init__()\n",
        "\n",
        "        self.mhsa = MultiHeadSelfAttention(d_model, num_heads)\n",
        "        self.ffn = feed_forward_network(d_model, hidden_dim)\n",
        "\n",
        "        self.dropout1 = tf.keras.layers.Dropout(dropout_rate)\n",
        "        self.dropout2 = tf.keras.layers.Dropout(dropout_rate)\n",
        "\n",
        "        self.layernorm1 = tf.keras.layers.LayerNormalization()\n",
        "        self.layernorm2 = tf.keras.layers.LayerNormalization()\n",
        "\n",
        "    def call(self, x, training, mask):\n",
        "        mhsa_output,attn_weights = self.mhsa(x,False,None,None,mask)\n",
        "        mhsa_output = self.dropout1(mhsa_output, training = training)\n",
        "        mhsa_output = self.layernorm1(x+mhsa_output)\n",
        "\n",
        "        ffn_output = self.ffn(mhsa_output)\n",
        "        ffn_output = self.dropout2(ffn_output, training=training)\n",
        "        output = self.layernorm2(mhsa_output + ffn_output)\n",
        "\n",
        "        return output, attn_weights"
      ],
      "metadata": {
        "id": "PUtSFIKjIwOP"
      },
      "execution_count": null,
      "outputs": []
    },
    {
      "cell_type": "code",
      "source": [
        "encoder_block = EncoderBlock(12, 3, 48)\n",
        "\n",
        "block_output,  _ = encoder_block(x, True, None)\n",
        "print(f\"Output from single encoder block {block_output.shape}:\")\n",
        "print(block_output)"
      ],
      "metadata": {
        "colab": {
          "base_uri": "https://localhost:8080/"
        },
        "id": "_bZAzXM2aTwZ",
        "outputId": "2859f433-13b4-4cdc-d17d-504fdf1f165d"
      },
      "execution_count": null,
      "outputs": [
        {
          "output_type": "stream",
          "name": "stdout",
          "text": [
            "Output from single encoder block (1, 3, 12):\n",
            "tf.Tensor(\n",
            "[[[ 1.8242501  -0.50233185 -0.83519226  1.1618189  -0.5749973\n",
            "   -0.89437103 -0.9247312   1.6043864   0.79578704 -0.86463165\n",
            "   -0.6297844  -0.16020246]\n",
            "  [ 1.7977773  -1.0861506  -0.68553454  1.1104181  -0.48652914\n",
            "   -0.4461478  -1.0398381   1.6687504   0.63914865  0.05333441\n",
            "   -0.7553736  -0.7698552 ]\n",
            "  [ 0.56972873 -0.3778493  -1.0022167   0.5675548  -0.4642162\n",
            "   -0.9575082  -0.796912    1.0386565   1.3808947  -1.8025631\n",
            "    1.4183145   0.42611617]]], shape=(1, 3, 12), dtype=float32)\n"
          ]
        }
      ]
    },
    {
      "cell_type": "markdown",
      "source": [
        "Word and Positional Embeddings"
      ],
      "metadata": {
        "id": "BObejh-Da0IX"
      }
    },
    {
      "cell_type": "markdown",
      "source": [
        "Word Embedding Layer"
      ],
      "metadata": {
        "id": "bomCNhQMIRJX"
      }
    },
    {
      "cell_type": "markdown",
      "source": [
        "Say I want to convert a word to an embedding using subword tokenization. Firstly, I would need to convert that word/collection of subwords to a number or numbers and then to a vector.\n",
        "\n",
        "I first use a subword tokenizer called BPEmb. It uses Byte-Pair Encoding and support over two hundred languages.\n"
      ],
      "metadata": {
        "id": "tF2Vq3ycvuYP"
      }
    },
    {
      "cell_type": "code",
      "source": [
        "bpemb_en = BPEmb(lang='en')"
      ],
      "metadata": {
        "colab": {
          "base_uri": "https://localhost:8080/"
        },
        "id": "1G2ZgimPa32R",
        "outputId": "330265b2-9e41-4a65-cf71-30838e424453"
      },
      "execution_count": null,
      "outputs": [
        {
          "output_type": "stream",
          "name": "stdout",
          "text": [
            "downloading https://nlp.h-its.org/bpemb/en/en.wiki.bpe.vs10000.model\n"
          ]
        },
        {
          "output_type": "stream",
          "name": "stderr",
          "text": [
            "100%|██████████| 400869/400869 [00:00<00:00, 401657.70B/s]\n"
          ]
        },
        {
          "output_type": "stream",
          "name": "stdout",
          "text": [
            "downloading https://nlp.h-its.org/bpemb/en/en.wiki.bpe.vs10000.d100.w2v.bin.tar.gz\n"
          ]
        },
        {
          "output_type": "stream",
          "name": "stderr",
          "text": [
            "100%|██████████| 3784656/3784656 [00:01<00:00, 2197065.14B/s]\n"
          ]
        }
      ]
    },
    {
      "cell_type": "code",
      "source": [
        "bpemb_vocab_size, bpemb_embed_size = bpemb_en.vectors.shape\n",
        "print(bpemb_vocab_size)\n",
        "print(bpemb_embed_size)"
      ],
      "metadata": {
        "colab": {
          "base_uri": "https://localhost:8080/"
        },
        "id": "39bY6lnFxV-6",
        "outputId": "b557f904-a5c2-4e1a-e6aa-18d96ef0f23e"
      },
      "execution_count": null,
      "outputs": [
        {
          "output_type": "stream",
          "name": "stdout",
          "text": [
            "10000\n",
            "100\n"
          ]
        }
      ]
    },
    {
      "cell_type": "code",
      "source": [
        "# Embedding for the word \"car\".\n",
        "bpemb_en.vectors[bpemb_en.words.index('car')]"
      ],
      "metadata": {
        "colab": {
          "base_uri": "https://localhost:8080/"
        },
        "id": "k4GzOSwExvTh",
        "outputId": "07af2d1e-1236-4167-88e6-f481c3084b10"
      },
      "execution_count": null,
      "outputs": [
        {
          "output_type": "execute_result",
          "data": {
            "text/plain": [
              "array([-0.305548, -0.325598, -0.134716, -0.078735, -0.660545,  0.076211,\n",
              "       -0.735487,  0.124533, -0.294402,  0.459688,  0.030137,  0.174041,\n",
              "       -0.224223,  0.486189, -0.504649, -0.459699,  0.315747,  0.477885,\n",
              "        0.091398,  0.427867,  0.016524, -0.076833, -0.899727,  0.493158,\n",
              "       -0.022309, -0.422785, -0.154148,  0.204981,  0.379834,  0.070588,\n",
              "        0.196073, -0.368222,  0.473406,  0.007409,  0.004303, -0.007823,\n",
              "       -0.19103 , -0.202509,  0.109878, -0.224521, -0.35741 , -0.611633,\n",
              "        0.329958, -0.212956, -0.497499, -0.393839, -0.130101, -0.216903,\n",
              "       -0.105595, -0.076007, -0.483942, -0.139704, -0.161647,  0.136985,\n",
              "        0.415363, -0.360143,  0.038601, -0.078804, -0.030421,  0.324129,\n",
              "        0.223378, -0.523636, -0.048317, -0.032248, -0.117367,  0.470519,\n",
              "        0.225816, -0.222065, -0.225007, -0.165904, -0.334389, -0.20157 ,\n",
              "        0.572352, -0.268794,  0.301929, -0.005563,  0.387491,  0.261031,\n",
              "       -0.11613 ,  0.074982, -0.008433,  0.259987, -0.099893, -0.268875,\n",
              "       -0.054047, -0.534776, -0.111101, -0.051742,  0.214114,  0.04293 ,\n",
              "        0.039873, -0.453112,  0.087382, -0.333201, -0.034079, -0.833045,\n",
              "        0.155232, -1.132393, -0.294766,  0.327572], dtype=float32)"
            ]
          },
          "metadata": {},
          "execution_count": 38
        }
      ]
    },
    {
      "cell_type": "markdown",
      "source": [
        "Here, I don't need the embeddings since I'm going to use my own embedding layer. I just need the subword tokens and their respective ids. The ids will be used as indexes into the embedding layer."
      ],
      "metadata": {
        "id": "fJRXjmuYx60x"
      }
    },
    {
      "cell_type": "code",
      "source": [
        "sample_sentence = \"Where can I find a pizzeria?\"\n",
        "tokens = bpemb_en.encode(sample_sentence)\n",
        "print(tokens)"
      ],
      "metadata": {
        "colab": {
          "base_uri": "https://localhost:8080/"
        },
        "id": "pcYGuW93yZrh",
        "outputId": "bebd9360-bfb5-467c-9b32-98f0c3856a4e"
      },
      "execution_count": null,
      "outputs": [
        {
          "output_type": "stream",
          "name": "stdout",
          "text": [
            "['▁where', '▁can', '▁i', '▁find', '▁a', '▁p', 'iz', 'zer', 'ia', '?']\n"
          ]
        }
      ]
    },
    {
      "cell_type": "markdown",
      "source": [
        "I can retrieve each subword token's respective id using the encode_ids method:"
      ],
      "metadata": {
        "id": "P2NmfO1hy91_"
      }
    },
    {
      "cell_type": "code",
      "source": [
        "token_seq = np.array(bpemb_en.encode_ids(\"Where can I find a pizzeria?\"))\n",
        "print(token_seq)"
      ],
      "metadata": {
        "colab": {
          "base_uri": "https://localhost:8080/"
        },
        "id": "Qr20cx9-ygQ-",
        "outputId": "5cc7c387-331e-4535-c81e-7c76dc234bd3"
      },
      "execution_count": null,
      "outputs": [
        {
          "output_type": "stream",
          "name": "stdout",
          "text": [
            "[ 571  280  386 1934    4   24  248 4339  177 9967]\n"
          ]
        }
      ]
    },
    {
      "cell_type": "code",
      "source": [
        "token_embed = tf.keras.layers.Embedding(bpemb_vocab_size,embedding_dimension)\n",
        "token_embeddings = token_embed(token_seq)\n",
        "token_embeddings"
      ],
      "metadata": {
        "colab": {
          "base_uri": "https://localhost:8080/"
        },
        "id": "a_3I6P3pHUQr",
        "outputId": "ea864a18-3a71-47f1-cf73-ff6efca996a1"
      },
      "execution_count": null,
      "outputs": [
        {
          "output_type": "execute_result",
          "data": {
            "text/plain": [
              "<tf.Tensor: shape=(10, 12), dtype=float32, numpy=\n",
              "array([[-0.04461122,  0.01890883,  0.03434424, -0.04503877,  0.02535439,\n",
              "         0.01897648,  0.01745934,  0.04894675, -0.00153736,  0.02475388,\n",
              "        -0.00228628, -0.0329788 ],\n",
              "       [ 0.01149695,  0.03881018, -0.0245306 ,  0.0120937 , -0.02994308,\n",
              "         0.02953328, -0.01772953,  0.00361868, -0.03773403, -0.02568172,\n",
              "        -0.03076073, -0.00801088],\n",
              "       [ 0.02657996, -0.03073123,  0.00998415,  0.03653934, -0.00468938,\n",
              "        -0.01204758,  0.02870408, -0.04083098, -0.02316518, -0.00143167,\n",
              "        -0.03559735, -0.02940792],\n",
              "       [-0.00660964, -0.02753652,  0.00241891, -0.04766138, -0.03074981,\n",
              "        -0.04294341, -0.02310035,  0.04787371,  0.04197503, -0.00939281,\n",
              "        -0.00697284, -0.02912018],\n",
              "       [ 0.03569015, -0.00944052, -0.03845853, -0.02380289,  0.01532182,\n",
              "         0.03237107, -0.00160576, -0.00527434, -0.04180144, -0.04876281,\n",
              "         0.01305648, -0.01625718],\n",
              "       [ 0.0162176 ,  0.01056536, -0.02205069,  0.00832369, -0.00947609,\n",
              "         0.02916608, -0.01594858,  0.01515981,  0.03690853,  0.03366863,\n",
              "         0.0265691 , -0.04079049],\n",
              "       [-0.04713035, -0.03813113,  0.00592262,  0.01301155,  0.03756514,\n",
              "         0.0004443 , -0.04915497, -0.01530497,  0.04078689, -0.0396598 ,\n",
              "         0.0068485 ,  0.03142517],\n",
              "       [-0.03418962, -0.01493397, -0.0356167 ,  0.04230246,  0.0481709 ,\n",
              "         0.02160946, -0.00530597, -0.03644193,  0.04485757,  0.02400411,\n",
              "        -0.04805453,  0.02797833],\n",
              "       [-0.00186114, -0.01972087,  0.04253447, -0.04875045,  0.01073898,\n",
              "         0.00628524, -0.03314558,  0.01449293,  0.00013676,  0.01911411,\n",
              "        -0.014365  ,  0.02975747],\n",
              "       [ 0.00147206, -0.03134601,  0.00323017, -0.03995079,  0.04684751,\n",
              "         0.02979267,  0.0272775 ,  0.00729709, -0.01348183,  0.00666108,\n",
              "        -0.04022688,  0.02208624]], dtype=float32)>"
            ]
          },
          "metadata": {},
          "execution_count": 41
        }
      ]
    },
    {
      "cell_type": "markdown",
      "source": [
        "Positional Embedding Layer"
      ],
      "metadata": {
        "id": "aWFVCqqIJ1Ha"
      }
    },
    {
      "cell_type": "code",
      "source": [
        "max_seq_len = 256\n",
        "pos_embed = tf.keras.layers.Embedding(max_seq_len,embedding_dimension)\n",
        "pos_idx = tf.range(len(token_seq))\n",
        "pos_idx"
      ],
      "metadata": {
        "colab": {
          "base_uri": "https://localhost:8080/"
        },
        "id": "ForDI8HDJ4nT",
        "outputId": "920a18a6-9ee7-436c-ed0f-8ad4e34551d3"
      },
      "execution_count": null,
      "outputs": [
        {
          "output_type": "execute_result",
          "data": {
            "text/plain": [
              "<tf.Tensor: shape=(10,), dtype=int32, numpy=array([0, 1, 2, 3, 4, 5, 6, 7, 8, 9], dtype=int32)>"
            ]
          },
          "metadata": {},
          "execution_count": 42
        }
      ]
    },
    {
      "cell_type": "code",
      "source": [
        "position_embeddings = pos_embed(pos_idx)\n",
        "position_embeddings"
      ],
      "metadata": {
        "colab": {
          "base_uri": "https://localhost:8080/"
        },
        "id": "6Q3ALHPWKU9p",
        "outputId": "c9ea3d44-903f-4d6a-8eb0-d7fbb20aa72d"
      },
      "execution_count": null,
      "outputs": [
        {
          "output_type": "execute_result",
          "data": {
            "text/plain": [
              "<tf.Tensor: shape=(10, 12), dtype=float32, numpy=\n",
              "array([[-0.02159258, -0.02178797, -0.01071353,  0.00392606,  0.01474858,\n",
              "         0.00230665,  0.03591781, -0.02605723, -0.02397758, -0.03842347,\n",
              "        -0.02482284,  0.03916558],\n",
              "       [ 0.03321915,  0.01393901,  0.01631952,  0.04426229,  0.04942925,\n",
              "        -0.02498194,  0.04361388,  0.01242148,  0.01132147,  0.04454304,\n",
              "        -0.04102899,  0.03399486],\n",
              "       [-0.04982467,  0.02765057, -0.02570366, -0.03535713,  0.04908658,\n",
              "         0.02427988,  0.01726985, -0.02289181,  0.04741284, -0.04907675,\n",
              "         0.01093683, -0.03935438],\n",
              "       [ 0.04328959,  0.02339108,  0.044795  , -0.01069695, -0.02157626,\n",
              "        -0.04487678, -0.00117018, -0.04860222, -0.02190375, -0.01669046,\n",
              "         0.02316053, -0.01734159],\n",
              "       [-0.03669398, -0.03330215, -0.00041832, -0.02384672, -0.02963996,\n",
              "        -0.04020852, -0.03924523,  0.00830703, -0.00238007,  0.01245204,\n",
              "         0.03210623,  0.04796246],\n",
              "       [-0.04369159,  0.03894093, -0.04047062, -0.03956997,  0.03224692,\n",
              "         0.00459529,  0.00987501, -0.03717798, -0.01006539,  0.03590465,\n",
              "        -0.0095974 ,  0.01209295],\n",
              "       [ 0.0497972 , -0.04496156, -0.01229446,  0.03069062, -0.04639535,\n",
              "        -0.04736549,  0.01959634, -0.04885396, -0.0333332 ,  0.03264001,\n",
              "         0.01585266, -0.00024652],\n",
              "       [ 0.00821899, -0.0252394 , -0.03536384,  0.02325496,  0.0364624 ,\n",
              "         0.03910389,  0.00354486, -0.03904071, -0.02194877, -0.01613234,\n",
              "        -0.02097168,  0.04015491],\n",
              "       [ 0.00042585, -0.03673727,  0.01218592, -0.03514344, -0.00292508,\n",
              "        -0.03688711, -0.00373621, -0.00385648,  0.00705737,  0.03432045,\n",
              "        -0.02025622, -0.04612822],\n",
              "       [-0.02843492,  0.03315886, -0.02473998, -0.03045566,  0.03905701,\n",
              "         0.0233998 , -0.0460857 , -0.01170369,  0.03968539, -0.04542996,\n",
              "         0.00443828,  0.02266156]], dtype=float32)>"
            ]
          },
          "metadata": {},
          "execution_count": 43
        }
      ]
    },
    {
      "cell_type": "code",
      "source": [
        "final_input = token_embeddings+position_embeddings\n",
        "final_input"
      ],
      "metadata": {
        "colab": {
          "base_uri": "https://localhost:8080/"
        },
        "id": "oNbhosKaLyLS",
        "outputId": "8f4eec3a-7a1b-4508-ebc8-0f0fca551de0"
      },
      "execution_count": null,
      "outputs": [
        {
          "output_type": "execute_result",
          "data": {
            "text/plain": [
              "<tf.Tensor: shape=(10, 12), dtype=float32, numpy=\n",
              "array([[-0.0662038 , -0.00287913,  0.02363072, -0.04111271,  0.04010297,\n",
              "         0.02128313,  0.05337714,  0.02288952, -0.02551494, -0.01366959,\n",
              "        -0.02710912,  0.00618679],\n",
              "       [ 0.0447161 ,  0.05274919, -0.00821109,  0.05635599,  0.01948616,\n",
              "         0.00455134,  0.02588435,  0.01604016, -0.02641256,  0.01886132,\n",
              "        -0.07178972,  0.02598399],\n",
              "       [-0.0232447 , -0.00308066, -0.01571951,  0.00118221,  0.0443972 ,\n",
              "         0.0122323 ,  0.04597393, -0.06372279,  0.02424766, -0.05050841,\n",
              "        -0.02466051, -0.0687623 ],\n",
              "       [ 0.03667995, -0.00414545,  0.04721392, -0.05835832, -0.05232607,\n",
              "        -0.08782019, -0.02427053, -0.00072851,  0.02007127, -0.02608326,\n",
              "         0.01618769, -0.04646178],\n",
              "       [-0.00100382, -0.04274267, -0.03887684, -0.04764961, -0.01431814,\n",
              "        -0.00783745, -0.04085099,  0.00303268, -0.04418151, -0.03631077,\n",
              "         0.04516272,  0.03170528],\n",
              "       [-0.02747399,  0.0495063 , -0.06252132, -0.03124628,  0.02277083,\n",
              "         0.03376137, -0.00607357, -0.02201817,  0.02684315,  0.06957328,\n",
              "         0.0169717 , -0.02869754],\n",
              "       [ 0.00266686, -0.08309269, -0.00637184,  0.04370217, -0.00883021,\n",
              "        -0.04692118, -0.02955863, -0.06415893,  0.00745368, -0.00701978,\n",
              "         0.02270117,  0.03117864],\n",
              "       [-0.02597063, -0.04017336, -0.07098053,  0.06555741,  0.0846333 ,\n",
              "         0.06071335, -0.00176111, -0.07548264,  0.0229088 ,  0.00787176,\n",
              "        -0.06902621,  0.06813323],\n",
              "       [-0.00143529, -0.05645814,  0.05472039, -0.08389388,  0.0078139 ,\n",
              "        -0.03060187, -0.03688179,  0.01063645,  0.00719412,  0.05343456,\n",
              "        -0.03462122, -0.01637076],\n",
              "       [-0.02696287,  0.00181285, -0.02150982, -0.07040645,  0.08590452,\n",
              "         0.05319247, -0.01880821, -0.0044066 ,  0.02620356, -0.03876888,\n",
              "        -0.0357886 ,  0.04474779]], dtype=float32)>"
            ]
          },
          "metadata": {},
          "execution_count": 44
        }
      ]
    },
    {
      "cell_type": "markdown",
      "source": [
        "Encoder"
      ],
      "metadata": {
        "id": "RBB1Ui2Dmb5y"
      }
    },
    {
      "cell_type": "markdown",
      "source": [
        "![image.png](data:image/png;base64,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)\n",
        "\n"
      ],
      "metadata": {
        "id": "h6VSlMhaupX5"
      }
    },
    {
      "cell_type": "code",
      "source": [
        "class Encoder(tf.keras.layers.Layer):\n",
        "    \"\"\"\n",
        "    input: A batch of N sequences, each sequence has max len of max_seq_len (256)\n",
        "    \"\"\"\n",
        "    def __init__(self, num_blocks, d_model, num_heads, hidden_dim, src_vocab_size,\n",
        "               max_seq_len, dropout_rate=0.1):\n",
        "        super(Encoder,self).__init__()\n",
        "\n",
        "        self.d_model = d_model\n",
        "        self.max_seq_len = max_seq_len\n",
        "\n",
        "        self.token_embed = tf.keras.layers.Embedding(src_vocab_size,self.d_model)\n",
        "        self.pos_embed = tf.keras.layers.Embedding(max_seq_len, self.d_model)\n",
        "\n",
        "        self.dropout = tf.keras.layers.Dropout(dropout_rate)\n",
        "\n",
        "        self.blocks = [EncoderBlock(self.d_model, num_heads,hidden_dim,dropout_rate)\n",
        "        for _ in range(num_blocks)]\n",
        "\n",
        "    def call(self, input, training, mask):\n",
        "        token_embeds = self.token_embed(input)\n",
        "\n",
        "        # Batch of sequences * max length of a sequence\n",
        "        num_pos = input.shape[0] * self.max_seq_len\n",
        "        # [ [0,1,2...256] * Batch of sequences ]\n",
        "        pos_idx = np.resize(np.arange(self.max_seq_len),num_pos)\n",
        "        # [[0,1,2...256], [0,1,2...256],...Batch of sequences ]\n",
        "        pos_idx = np.reshape(pos_idx, input.shape)\n",
        "\n",
        "        pos_embeds = self.pos_embed(pos_idx)\n",
        "\n",
        "        x = self.dropout(token_embeds + pos_embeds, training = training)\n",
        "\n",
        "        for block in self.blocks:\n",
        "            x, weights = block(x,training, mask)\n",
        "\n",
        "        return x,weights"
      ],
      "metadata": {
        "id": "6tN3l-JTmjmx"
      },
      "execution_count": null,
      "outputs": []
    },
    {
      "cell_type": "code",
      "source": [
        "input_batch = [\n",
        "    \"Where can I find a pizzeria?\",\n",
        "    \"Mass hysteria over listeria.\",\n",
        "    \"I ain't no circle back girl.\"\n",
        "]"
      ],
      "metadata": {
        "id": "3kd9SkkeLJqQ"
      },
      "execution_count": null,
      "outputs": []
    },
    {
      "cell_type": "code",
      "source": [
        "input_seqs = bpemb_en.encode_ids(input_batch)\n",
        "print(\"Vectorized inputs:\")\n",
        "input_seqs"
      ],
      "metadata": {
        "colab": {
          "base_uri": "https://localhost:8080/"
        },
        "id": "MloCpmQLLLOd",
        "outputId": "d904cf29-1fcc-47d0-e18d-c78aacf46b69"
      },
      "execution_count": null,
      "outputs": [
        {
          "output_type": "stream",
          "name": "stdout",
          "text": [
            "Vectorized inputs:\n"
          ]
        },
        {
          "output_type": "execute_result",
          "data": {
            "text/plain": [
              "[[571, 280, 386, 1934, 4, 24, 248, 4339, 177, 9967],\n",
              " [1535, 1354, 1238, 177, 380, 43, 871, 177, 9935],\n",
              " [386, 4, 6, 9937, 9915, 467, 5410, 810, 3692, 9935]]"
            ]
          },
          "metadata": {},
          "execution_count": 47
        }
      ]
    },
    {
      "cell_type": "markdown",
      "source": [
        "Padding to make make sequences the same length\n",
        "\n",
        "why I need to do this?\n",
        "\n",
        "Recurrent Neural Networks or Transformer are capable of handling variable length sequences.\n",
        "\n",
        "Despite that, it's still best to pad or truncate sequences to a uniform length for one or both of these reasons:\n",
        "\n",
        "1. Performance. The longer a sequence, the higher the computation cost. One may want to truncate long sequences to a shorter length if that's feasible and doesn't result in too much performance loss.\n",
        "\n",
        "2. When processing datasets in batches, each sequence in a batch usually has to be of uniform length."
      ],
      "metadata": {
        "id": "XgM-C5zTMV-q"
      }
    },
    {
      "cell_type": "code",
      "source": [
        "padded_input_seqs = tf.keras.preprocessing.sequence.pad_sequences(input_seqs, padding=\"post\")\n",
        "padded_input_seqs"
      ],
      "metadata": {
        "colab": {
          "base_uri": "https://localhost:8080/"
        },
        "id": "4V1a88TAMjiZ",
        "outputId": "97737183-cdbb-4de7-930c-b5f94108c75d"
      },
      "execution_count": null,
      "outputs": [
        {
          "output_type": "execute_result",
          "data": {
            "text/plain": [
              "array([[ 571,  280,  386, 1934,    4,   24,  248, 4339,  177, 9967],\n",
              "       [1535, 1354, 1238,  177,  380,   43,  871,  177, 9935,    0],\n",
              "       [ 386,    4,    6, 9937, 9915,  467, 5410,  810, 3692, 9935]],\n",
              "      dtype=int32)"
            ]
          },
          "metadata": {},
          "execution_count": 48
        }
      ]
    },
    {
      "cell_type": "markdown",
      "source": [
        "Mask for Encoder:"
      ],
      "metadata": {
        "id": "rhHcX_NbuURX"
      }
    },
    {
      "cell_type": "code",
      "source": [
        "enc_mask = tf.cast(tf.math.not_equal(padded_input_seqs, 0), tf.float32)\n",
        "print(\"Input:\")\n",
        "print(padded_input_seqs, '\\n')\n",
        "print(\"Encoder mask:\")\n",
        "print(enc_mask)"
      ],
      "metadata": {
        "colab": {
          "base_uri": "https://localhost:8080/"
        },
        "id": "RaoniyjaTXj0",
        "outputId": "299475dc-b4c7-4822-8a49-60dfb4a6ba0c"
      },
      "execution_count": null,
      "outputs": [
        {
          "output_type": "stream",
          "name": "stdout",
          "text": [
            "Input:\n",
            "[[ 571  280  386 1934    4   24  248 4339  177 9967]\n",
            " [1535 1354 1238  177  380   43  871  177 9935    0]\n",
            " [ 386    4    6 9937 9915  467 5410  810 3692 9935]] \n",
            "\n",
            "Encoder mask:\n",
            "tf.Tensor(\n",
            "[[1. 1. 1. 1. 1. 1. 1. 1. 1. 1.]\n",
            " [1. 1. 1. 1. 1. 1. 1. 1. 1. 0.]\n",
            " [1. 1. 1. 1. 1. 1. 1. 1. 1. 1.]], shape=(3, 10), dtype=float32)\n"
          ]
        }
      ]
    },
    {
      "cell_type": "markdown",
      "source": [
        "But the attention matrix is of shape (batch size, number of heads, embedding size, embedding size) or (3,3,10,10), so my mask need to work with that attention matrix:"
      ],
      "metadata": {
        "id": "KCqImnZwuRmR"
      }
    },
    {
      "cell_type": "code",
      "source": [
        "enc_mask = enc_mask[:, tf.newaxis, tf.newaxis, :]\n",
        "enc_mask"
      ],
      "metadata": {
        "colab": {
          "base_uri": "https://localhost:8080/"
        },
        "id": "bWr-KAPbowWq",
        "outputId": "87e9d649-b70f-4607-a880-1aa35c999fe1"
      },
      "execution_count": null,
      "outputs": [
        {
          "output_type": "execute_result",
          "data": {
            "text/plain": [
              "<tf.Tensor: shape=(3, 1, 1, 10), dtype=float32, numpy=\n",
              "array([[[[1., 1., 1., 1., 1., 1., 1., 1., 1., 1.]]],\n",
              "\n",
              "\n",
              "       [[[1., 1., 1., 1., 1., 1., 1., 1., 1., 0.]]],\n",
              "\n",
              "\n",
              "       [[[1., 1., 1., 1., 1., 1., 1., 1., 1., 1.]]]], dtype=float32)>"
            ]
          },
          "metadata": {},
          "execution_count": 50
        }
      ]
    },
    {
      "cell_type": "markdown",
      "source": [
        "This way, the encoder mask will now be *broadcasted*.<br>\n",
        "https://www.tensorflow.org/xla/broadcasting"
      ],
      "metadata": {
        "id": "_3otL355wi0m"
      }
    },
    {
      "cell_type": "code",
      "source": [
        "num_encoder_blocks = 6\n",
        "d_model = 12\n",
        "num_heads = 3\n",
        "ffn_hidden_dim = 48\n",
        "\n",
        "src_vocab_size = bpemb_vocab_size\n",
        "max_input_seq_len = padded_input_seqs.shape[1]\n",
        "\n",
        "encoder = Encoder(\n",
        "    num_encoder_blocks,\n",
        "    d_model,\n",
        "    num_heads,\n",
        "    ffn_hidden_dim,\n",
        "    src_vocab_size,\n",
        "    max_input_seq_len)\n",
        "\n"
      ],
      "metadata": {
        "id": "LPEkJ0yJwjUg"
      },
      "execution_count": null,
      "outputs": []
    },
    {
      "cell_type": "code",
      "source": [
        "encoder_output, attn_weights = encoder(padded_input_seqs, training=True,\n",
        "                                       mask=enc_mask)\n",
        "print(f\"Encoder output {encoder_output.shape}:\")\n",
        "print(encoder_output)"
      ],
      "metadata": {
        "colab": {
          "base_uri": "https://localhost:8080/"
        },
        "id": "ZjsBPsxiyVg0",
        "outputId": "9652efed-bf80-4bca-a532-11187082a1d6"
      },
      "execution_count": null,
      "outputs": [
        {
          "output_type": "stream",
          "name": "stdout",
          "text": [
            "Encoder output (3, 10, 12):\n",
            "tf.Tensor(\n",
            "[[[ 1.03232360e+00  1.26338273e-01  1.88199174e+00 -1.25341952e+00\n",
            "   -1.03916693e+00 -1.93802714e+00  1.57654464e-01 -3.59519213e-01\n",
            "    5.16445160e-01  4.35568511e-01 -1.34414524e-01  5.74225485e-01]\n",
            "  [-8.01305830e-01  1.02560604e+00 -6.60630226e-01 -2.30250049e+00\n",
            "    1.69294810e+00  2.42503081e-02 -3.54117036e-01  5.01149654e-01\n",
            "   -6.61929309e-01  5.32735109e-01  2.89234906e-01  7.14558899e-01]\n",
            "  [-1.60282350e+00  1.38714182e+00  1.64326048e+00 -1.25473440e+00\n",
            "    3.23554486e-01  5.69470078e-02 -1.14738107e+00 -9.99047533e-02\n",
            "   -7.91172862e-01  6.35113120e-02  9.81152058e-01  4.40449744e-01]\n",
            "  [-2.85223693e-01  1.41784966e+00  1.08355856e+00 -1.53604698e+00\n",
            "   -1.51518106e+00 -3.28757256e-01 -9.47925210e-01  1.08412766e+00\n",
            "   -4.56656247e-01  7.61915565e-01 -2.85028428e-01  1.00736761e+00]\n",
            "  [-1.47422075e+00  5.60985744e-01  9.20856476e-01 -2.13721824e+00\n",
            "    1.09045279e+00 -5.10786176e-01 -1.91281945e-01  7.45311499e-01\n",
            "   -3.65194887e-01  1.13246477e+00 -4.35232729e-01  6.63863599e-01]\n",
            "  [-1.42861950e+00  1.37093949e+00  1.16650319e+00 -8.62943530e-01\n",
            "    3.25813711e-01  5.55989742e-01 -1.92025661e+00  4.76959169e-01\n",
            "   -9.88217950e-01  3.71677965e-01  6.65672362e-01  2.66482055e-01]\n",
            "  [-1.04795694e+00  1.41983569e+00 -2.07255960e-01 -1.80075324e+00\n",
            "    1.24848115e+00 -8.85580434e-04 -4.55493368e-02  9.76324752e-02\n",
            "   -1.64596891e+00  6.65583909e-01  6.16422117e-01  7.00414419e-01]\n",
            "  [-9.00900126e-01  1.65173876e+00  4.04553056e-01 -1.90363097e+00\n",
            "    1.48155379e+00  1.31629243e-01 -8.63303125e-01  2.28007153e-01\n",
            "   -9.67588842e-01  7.34187841e-01 -2.97413826e-01  3.01167041e-01]\n",
            "  [ 1.37825239e+00  3.27563584e-01  7.53187537e-01  1.95245430e-01\n",
            "   -1.36179280e+00 -1.64613950e+00  3.01943719e-02 -9.55467671e-02\n",
            "   -1.59854531e+00  1.39670837e+00  8.32038671e-02  5.37668765e-01]\n",
            "  [-3.41559380e-01  9.50601220e-01  7.45840847e-01 -2.49219894e+00\n",
            "    1.59375715e+00 -1.63875729e-01 -5.74033558e-01 -3.89009923e-01\n",
            "   -1.42171726e-01  2.43049905e-01 -3.90052766e-01  9.59652722e-01]]\n",
            "\n",
            " [[ 1.94446456e+00  1.65438000e-02  6.91269338e-01  5.00190020e-01\n",
            "    8.77626359e-01 -6.36718690e-01 -1.13426709e+00 -6.92385197e-01\n",
            "   -1.00068617e+00 -1.40244520e+00  1.19979453e+00 -3.63386154e-01]\n",
            "  [ 3.08132708e-01  2.38982126e-01  8.59072030e-01 -1.26473498e+00\n",
            "    1.11625242e+00 -8.89715374e-01 -1.40637577e+00  1.87044191e+00\n",
            "   -3.11854910e-02 -3.62289816e-01 -1.15519869e+00  7.16618836e-01]\n",
            "  [-2.89149344e-01  1.31287813e+00  1.18145561e+00 -6.52824938e-01\n",
            "    1.60756910e+00 -1.52332044e+00 -1.14116514e+00  9.39093411e-01\n",
            "   -3.77694905e-01 -9.90441084e-01  2.33225822e-01 -2.99625963e-01]\n",
            "  [ 3.63129795e-01 -5.57375550e-01  1.12753773e+00  6.15542293e-01\n",
            "   -3.39550734e-01 -2.58671236e+00 -7.13629961e-01 -1.55052632e-01\n",
            "    4.57899541e-01  1.26348734e+00  8.16027641e-01 -2.91303098e-01]\n",
            "  [-3.17147195e-01  1.38263488e+00  1.95246792e+00 -1.41727972e+00\n",
            "    5.62475145e-01 -6.40197039e-01 -5.22483468e-01  5.94012797e-01\n",
            "   -7.39024103e-01  8.69217589e-02 -1.42036974e+00  4.77988541e-01]\n",
            "  [-2.77398914e-01  4.67718467e-02  1.41623092e+00  9.60675657e-01\n",
            "   -1.45265639e+00 -1.70486224e+00 -7.84435034e-01 -5.04008770e-01\n",
            "    7.79443860e-01  9.25157294e-02  1.56783009e+00 -1.40107080e-01]\n",
            "  [ 1.80718586e-01  1.64970279e+00  5.88943511e-02  6.01525724e-01\n",
            "    9.31815684e-01 -1.26560366e+00 -3.43349546e-01 -1.33051693e-01\n",
            "   -1.31285727e+00 -1.02106869e+00  1.60817063e+00 -9.54897106e-01]\n",
            "  [-5.40147245e-01  7.29078829e-01 -5.00235707e-02  3.82623821e-01\n",
            "    1.37473202e+00 -1.49593604e+00  7.92072773e-01  7.38697290e-01\n",
            "   -2.17460060e+00 -4.19453949e-01  8.76411200e-01 -2.13454664e-01]\n",
            "  [ 1.02249968e+00  2.63218194e-01  7.24732041e-01  9.20232177e-01\n",
            "    8.58891547e-01 -1.94284344e+00 -9.99768853e-01 -1.49517632e+00\n",
            "    7.72450328e-01  1.18580230e-01  6.24861360e-01 -8.67676914e-01]\n",
            "  [ 1.64077723e+00 -5.43511689e-01  6.36712730e-01  1.18781006e+00\n",
            "   -3.56955498e-01 -1.49005055e+00 -9.92065370e-01 -1.24078083e+00\n",
            "    7.56511629e-01 -2.31051743e-01  1.17928445e+00 -5.46680450e-01]]\n",
            "\n",
            " [[-8.62568676e-01  8.29602599e-01  1.02702320e-01  2.17638046e-01\n",
            "    8.75725925e-01 -3.54700476e-01  1.57141313e-01 -1.27657831e-01\n",
            "   -2.76943898e+00  4.38106060e-01  1.28985298e+00  2.03596830e-01]\n",
            "  [-7.91065037e-01 -2.36436218e-01  1.09885371e+00 -2.57751083e+00\n",
            "    3.03266078e-01  2.21323982e-01  8.17690134e-01  3.73037785e-01\n",
            "    7.47853696e-01 -4.46488380e-01 -6.57950222e-01  1.14742517e+00]\n",
            "  [-7.61566162e-01  4.41517502e-01  5.39780200e-01 -1.69112062e+00\n",
            "    1.26360261e+00  5.07238209e-01  2.72095770e-01  1.12315869e+00\n",
            "   -1.98057497e+00  4.53564525e-02  7.98431277e-01 -5.57919025e-01]\n",
            "  [ 2.90069848e-01 -3.35164428e-01  9.60635960e-01 -1.40642941e+00\n",
            "    6.22172058e-01  2.14829490e-01  7.37889349e-01  1.17398608e+00\n",
            "   -2.27746177e+00 -6.01888537e-01  9.39818382e-01 -3.18457037e-01]\n",
            "  [ 8.01207423e-01 -2.14319855e-01  3.88288438e-01  7.71420777e-01\n",
            "   -6.92309082e-01 -2.33004880e+00  1.34433985e+00  3.03412247e-02\n",
            "   -1.39440858e+00  3.07307333e-01  8.92488718e-01  9.56922621e-02]\n",
            "  [-1.68218839e+00  4.09460673e-03  1.80269229e+00 -5.15842974e-01\n",
            "    9.82578099e-01 -1.93586111e-01 -1.14539370e-01 -1.08820713e+00\n",
            "   -1.20635271e+00  3.41190398e-01  1.32448506e+00  3.45676184e-01]\n",
            "  [-9.35547203e-02 -1.25258744e+00  1.33693302e+00 -4.46236312e-01\n",
            "   -8.27838302e-01 -2.12030220e+00  1.00137925e+00  1.33399159e-01\n",
            "   -2.59166539e-01  7.19521046e-01  8.46517742e-01  9.61935282e-01]\n",
            "  [-3.13534826e-01  5.11449277e-02  1.97317708e+00 -1.79577112e+00\n",
            "    9.54075992e-01 -1.11979795e+00 -7.24941611e-01  4.26068455e-01\n",
            "   -3.28593969e-01  6.31994247e-01 -7.01608896e-01  9.47787941e-01]\n",
            "  [-9.16715026e-01  3.76689166e-01  9.22950983e-01 -2.43103400e-01\n",
            "    2.16294193e+00 -1.24046490e-01 -1.24985671e+00 -1.05968881e+00\n",
            "   -1.32032609e+00  9.06354725e-01  3.18810552e-01  2.25989312e-01]\n",
            "  [-5.67760289e-01 -1.04508206e-01  1.60129023e+00 -1.19328606e+00\n",
            "   -5.09773314e-01 -1.20315385e+00 -8.28236759e-01 -2.25983746e-02\n",
            "   -5.30276477e-01  3.09473366e-01  1.17194176e+00  1.87688780e+00]]], shape=(3, 10, 12), dtype=float32)\n"
          ]
        }
      ]
    },
    {
      "cell_type": "markdown",
      "source": [
        "Decoder Block"
      ],
      "metadata": {
        "id": "ElIGaH8DKLu9"
      }
    },
    {
      "cell_type": "markdown",
      "source": [
        "![image.png](data:image/png;base64,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)"
      ],
      "metadata": {
        "id": "7aC7zN2xPdx2"
      }
    },
    {
      "cell_type": "code",
      "source": [
        "class DecoderBlock(tf.keras.layers.Layer):\n",
        "    def __init__(self, d_model, num_heads, hidden_dim,dropout_rate=0.1):\n",
        "        super(DecoderBlock,self).__init__()\n",
        "\n",
        "        self.mhsa1 = MultiHeadSelfAttention(d_model, num_heads)\n",
        "        self.mhsa2 = MultiHeadSelfAttention(d_model, num_heads)\n",
        "\n",
        "        self.ffn = feed_forward_network(d_model, hidden_dim)\n",
        "\n",
        "        self.dropout1 = tf.keras.layers.Dropout(dropout_rate)\n",
        "        self.dropout2 = tf.keras.layers.Dropout(dropout_rate)\n",
        "        self.dropout3 = tf.keras.layers.Dropout(dropout_rate)\n",
        "\n",
        "        self.layernorm1 = tf.keras.layers.LayerNormalization()\n",
        "        self.layernorm2 = tf.keras.layers.LayerNormalization()\n",
        "        self.layernorm3 = tf.keras.layers.LayerNormalization()\n",
        "\n",
        "    def call(self, encoder_output, target, training, decoder_mask, memory_mask):\n",
        "        mhsa_output1, attn_weights = self.mhsa1(target,False, None, None, decoder_mask)\n",
        "        mhsa_output1 = self.dropout1(mhsa_output1, training = training)\n",
        "        mhsa_output1 = self.layernorm1(mhsa_output1+target)\n",
        "\n",
        "\n",
        "        mhsa_output2, attn_weights = self.mhsa2(mhsa_output1,True, encoder_output,\n",
        "                                            encoder_output,\n",
        "                                            memory_mask)\n",
        "        mhsa_output2 = self.dropout2(mhsa_output2, training = training)\n",
        "\n",
        "        mhsa_output2 = self.layernorm2(mhsa_output2 + mhsa_output1)\n",
        "\n",
        "        ffn_output = self.ffn(mhsa_output2)\n",
        "        ffn_output = self.dropout3(ffn_output, training=training)\n",
        "        output = self.layernorm3(ffn_output + mhsa_output2)\n",
        "\n",
        "        return output, attn_weights\n"
      ],
      "metadata": {
        "id": "Ox7mzfk2K7dr"
      },
      "execution_count": null,
      "outputs": []
    },
    {
      "cell_type": "code",
      "source": [
        "class Decoder(tf.keras.layers.Layer):\n",
        "    def __init__(self, num_blocks, d_model, num_heads, hidden_dim, target_vocab_size,\n",
        "               max_seq_len, dropout_rate=0.1):\n",
        "        super(Decoder, self).__init__()\n",
        "\n",
        "        self.d_model = d_model\n",
        "        self.max_seq_len = max_seq_len\n",
        "\n",
        "        self.token_embed = tf.keras.layers.Embedding(target_vocab_size, self.d_model)\n",
        "        self.pos_embed = tf.keras.layers.Embedding(max_seq_len, self.d_model)\n",
        "\n",
        "        self.dropout = tf.keras.layers.Dropout(dropout_rate)\n",
        "\n",
        "        self.blocks = [DecoderBlock(self.d_model, num_heads, hidden_dim, dropout_rate) for _ in range(num_blocks)]\n",
        "    def call(self, encoder_output, target, training, decoder_mask, memory_mask):\n",
        "        token_embeds = self.token_embed(target)\n",
        "\n",
        "        num_pos = target.shape[0] * self.max_seq_len\n",
        "        pos_idx = np.resize(np.arange(self.max_seq_len), num_pos)\n",
        "        pos_idx = np.reshape(pos_idx, target.shape)\n",
        "\n",
        "        pos_embeds = self.pos_embed(pos_idx)\n",
        "\n",
        "        x = self.dropout(token_embeds + pos_embeds, training=training)\n",
        "\n",
        "        for block in self.blocks:\n",
        "            x, weights = block(encoder_output, x, training, decoder_mask, memory_mask)\n",
        "\n",
        "        return x, weights"
      ],
      "metadata": {
        "id": "2uMdifVCUpvA"
      },
      "execution_count": null,
      "outputs": []
    },
    {
      "cell_type": "markdown",
      "source": [
        "Something about the decoder mask and memory mask here..."
      ],
      "metadata": {
        "id": "G0sLJ4wHWhXo"
      }
    },
    {
      "cell_type": "code",
      "source": [
        "target_input_seqs = [\n",
        "    [1, 652, 723, 123, 62],\n",
        "    [1, 25,  98, 129, 248, 215, 359, 249],\n",
        "    [1, 2369, 1259, 125, 486],\n",
        "]"
      ],
      "metadata": {
        "id": "BRliF7sYWpTG"
      },
      "execution_count": null,
      "outputs": []
    },
    {
      "cell_type": "code",
      "source": [
        "padded_target_input_seqs = tf.keras.preprocessing.sequence.pad_sequences(target_input_seqs, padding=\"post\")\n",
        "print(\"Padded target inputs to the decoder:\")\n",
        "print(padded_target_input_seqs.shape)\n",
        "print(padded_target_input_seqs)"
      ],
      "metadata": {
        "colab": {
          "base_uri": "https://localhost:8080/"
        },
        "id": "VgpUgA8oXQBn",
        "outputId": "c39c7e2d-02be-4d70-95c6-1eab16e91684"
      },
      "execution_count": null,
      "outputs": [
        {
          "output_type": "stream",
          "name": "stdout",
          "text": [
            "Padded target inputs to the decoder:\n",
            "(3, 8)\n",
            "[[   1  652  723  123   62    0    0    0]\n",
            " [   1   25   98  129  248  215  359  249]\n",
            " [   1 2369 1259  125  486    0    0    0]]\n"
          ]
        }
      ]
    },
    {
      "cell_type": "markdown",
      "source": [
        "padding mask :"
      ],
      "metadata": {
        "id": "WEGyAlHOXYdw"
      }
    },
    {
      "cell_type": "code",
      "source": [
        "dec_padding_mask = tf.cast(tf.math.not_equal(padded_target_input_seqs, 0), tf.float32)\n",
        "dec_padding_mask = dec_padding_mask[:, tf.newaxis, tf.newaxis, :]\n",
        "print(dec_padding_mask)"
      ],
      "metadata": {
        "colab": {
          "base_uri": "https://localhost:8080/"
        },
        "id": "ENtUT04mXWBd",
        "outputId": "3a53eadd-030c-4372-f596-4ab6d24d9658"
      },
      "execution_count": null,
      "outputs": [
        {
          "output_type": "stream",
          "name": "stdout",
          "text": [
            "tf.Tensor(\n",
            "[[[[1. 1. 1. 1. 1. 0. 0. 0.]]]\n",
            "\n",
            "\n",
            " [[[1. 1. 1. 1. 1. 1. 1. 1.]]]\n",
            "\n",
            "\n",
            " [[[1. 1. 1. 1. 1. 0. 0. 0.]]]], shape=(3, 1, 1, 8), dtype=float32)\n"
          ]
        }
      ]
    },
    {
      "cell_type": "markdown",
      "source": [
        "look ahead mask :"
      ],
      "metadata": {
        "id": "2RREXN08YOCc"
      }
    },
    {
      "cell_type": "code",
      "source": [
        "target_input_seq_len = padded_target_input_seqs.shape[1]\n",
        "look_ahead_mask = tf.linalg.band_part(tf.ones((target_input_seq_len,\n",
        "                                               target_input_seq_len)), -1, 0)\n",
        "print(look_ahead_mask)"
      ],
      "metadata": {
        "colab": {
          "base_uri": "https://localhost:8080/"
        },
        "id": "Ntgizv0eX8Fc",
        "outputId": "85d31605-8b94-4ae6-a263-c9049b8b1365"
      },
      "execution_count": null,
      "outputs": [
        {
          "output_type": "stream",
          "name": "stdout",
          "text": [
            "tf.Tensor(\n",
            "[[1. 0. 0. 0. 0. 0. 0. 0.]\n",
            " [1. 1. 0. 0. 0. 0. 0. 0.]\n",
            " [1. 1. 1. 0. 0. 0. 0. 0.]\n",
            " [1. 1. 1. 1. 0. 0. 0. 0.]\n",
            " [1. 1. 1. 1. 1. 0. 0. 0.]\n",
            " [1. 1. 1. 1. 1. 1. 0. 0.]\n",
            " [1. 1. 1. 1. 1. 1. 1. 0.]\n",
            " [1. 1. 1. 1. 1. 1. 1. 1.]], shape=(8, 8), dtype=float32)\n"
          ]
        }
      ]
    },
    {
      "cell_type": "markdown",
      "source": [
        "decoder mask = padding mask & look ahead mask :"
      ],
      "metadata": {
        "id": "IM1cGQWJaBZp"
      }
    },
    {
      "cell_type": "code",
      "source": [
        "\"\"\"\n",
        "Exampels of tf.minimum:\n",
        "\n",
        "Ex1:\n",
        "x = tf.constant([2, 4, 6])\n",
        "y = tf.constant([1, 5, 3])\n",
        "\n",
        "result = tf.math.minimum(x, y)\n",
        "\n",
        "print(result.numpy())  # Output: [1 4 3]\n",
        "\n",
        "Ex2:\n",
        "if x and y are not the same size, tf.minimum will try to broadcast them\n",
        "to have the same size:\n",
        "\n",
        "x = tf.constant([1, 2, 3])  # Shape: (3,)\n",
        "y = tf.constant(2)          # Scalar value\n",
        "\n",
        "result = tf.math.minimum(x, y)\n",
        "\n",
        "print(result.numpy())  # Output: [1 2 2]\n",
        "\"\"\"\n",
        "dec_mask = tf.minimum(dec_padding_mask, look_ahead_mask)\n",
        "print(\"The decoder mask:\")\n",
        "print(dec_mask)"
      ],
      "metadata": {
        "colab": {
          "base_uri": "https://localhost:8080/"
        },
        "id": "rbZrKz4oZMYY",
        "outputId": "5030ce61-7e51-433e-91f1-e6ec07fa86ec"
      },
      "execution_count": null,
      "outputs": [
        {
          "output_type": "stream",
          "name": "stdout",
          "text": [
            "The decoder mask:\n",
            "tf.Tensor(\n",
            "[[[[1. 0. 0. 0. 0. 0. 0. 0.]\n",
            "   [1. 1. 0. 0. 0. 0. 0. 0.]\n",
            "   [1. 1. 1. 0. 0. 0. 0. 0.]\n",
            "   [1. 1. 1. 1. 0. 0. 0. 0.]\n",
            "   [1. 1. 1. 1. 1. 0. 0. 0.]\n",
            "   [1. 1. 1. 1. 1. 0. 0. 0.]\n",
            "   [1. 1. 1. 1. 1. 0. 0. 0.]\n",
            "   [1. 1. 1. 1. 1. 0. 0. 0.]]]\n",
            "\n",
            "\n",
            " [[[1. 0. 0. 0. 0. 0. 0. 0.]\n",
            "   [1. 1. 0. 0. 0. 0. 0. 0.]\n",
            "   [1. 1. 1. 0. 0. 0. 0. 0.]\n",
            "   [1. 1. 1. 1. 0. 0. 0. 0.]\n",
            "   [1. 1. 1. 1. 1. 0. 0. 0.]\n",
            "   [1. 1. 1. 1. 1. 1. 0. 0.]\n",
            "   [1. 1. 1. 1. 1. 1. 1. 0.]\n",
            "   [1. 1. 1. 1. 1. 1. 1. 1.]]]\n",
            "\n",
            "\n",
            " [[[1. 0. 0. 0. 0. 0. 0. 0.]\n",
            "   [1. 1. 0. 0. 0. 0. 0. 0.]\n",
            "   [1. 1. 1. 0. 0. 0. 0. 0.]\n",
            "   [1. 1. 1. 1. 0. 0. 0. 0.]\n",
            "   [1. 1. 1. 1. 1. 0. 0. 0.]\n",
            "   [1. 1. 1. 1. 1. 0. 0. 0.]\n",
            "   [1. 1. 1. 1. 1. 0. 0. 0.]\n",
            "   [1. 1. 1. 1. 1. 0. 0. 0.]]]], shape=(3, 1, 8, 8), dtype=float32)\n"
          ]
        }
      ]
    },
    {
      "cell_type": "code",
      "source": [
        "# 6 blocks, 12 dimensions embedding, 3 heads, hidden layer of ffn dimension is 48\n",
        "# target vocab size is 10000, maximum of a sequence length is 8\n",
        "decoder = Decoder(6, 12, 3, 48, 10000, 8)\n",
        "# memory mask = enc_mask\n",
        "decoder_output, _ = decoder(encoder_output, padded_target_input_seqs,\n",
        "                            True, dec_mask, enc_mask)\n",
        "print(f\"Decoder output {decoder_output.shape}:\")\n",
        "print(decoder_output)"
      ],
      "metadata": {
        "colab": {
          "base_uri": "https://localhost:8080/"
        },
        "id": "eMdDkpPFboam",
        "outputId": "bc1249bd-f8d0-4c8d-902a-d9adfce3cdbe"
      },
      "execution_count": null,
      "outputs": [
        {
          "output_type": "stream",
          "name": "stdout",
          "text": [
            "Decoder output (3, 8, 12):\n",
            "tf.Tensor(\n",
            "[[[ 2.0763745  -0.47165573 -0.8284889  -2.1323872   0.15392499\n",
            "    0.3442822   0.2368639  -0.9195965   0.6632387   0.7808786\n",
            "   -0.2025379   0.29910326]\n",
            "  [ 1.2906675   0.04541504  0.01313913 -1.9144204  -0.2484681\n",
            "    0.7212323   0.07236852 -1.6080223   0.9465338   1.0333102\n",
            "   -1.0291289   0.6773732 ]\n",
            "  [ 2.0198011  -0.24576423 -0.16917978 -1.6613793  -0.7163569\n",
            "    0.70729417  0.13742588 -1.6523514   0.7621565   0.5217119\n",
            "   -0.29767716  0.59431934]\n",
            "  [ 2.2279332   0.09267257 -0.26676527 -1.0632471  -0.31695393\n",
            "   -0.16025153 -0.08656065 -1.9145851   0.74895334  0.69730496\n",
            "   -0.6747688   0.7162684 ]\n",
            "  [ 1.9471961  -0.17176072 -0.15524895 -2.1745317  -0.44309393\n",
            "    0.6679553   0.26021308 -1.3966768   0.59949976  0.29465994\n",
            "    0.01640807  0.5553802 ]\n",
            "  [ 1.2995603  -0.02027464 -0.4824909  -2.1661153  -0.7329682\n",
            "    1.1815834   0.41993332 -0.7980854   1.2349122   0.8683374\n",
            "   -0.28923088 -0.5151614 ]\n",
            "  [ 1.7970569   0.8199942  -0.69664794 -0.5600394  -0.5098696\n",
            "    0.9274391  -0.45925817 -2.0213485   0.8633574   0.32196796\n",
            "   -0.9130239   0.43037218]\n",
            "  [ 1.9619594   0.14423792 -0.26606098 -2.268183   -0.49102998\n",
            "    0.56012404  0.31422454 -1.2246404   0.476445    0.39370713\n",
            "   -0.18047494  0.5796915 ]]\n",
            "\n",
            " [[ 1.4046518  -1.0065633  -0.05075116 -0.80570173  0.44392934\n",
            "   -0.09447119  1.2412528  -0.7722542   0.7441819   1.0354147\n",
            "   -2.0929148  -0.04677412]\n",
            "  [ 1.9751343  -0.2742733  -0.2731163  -1.2274467   0.817896\n",
            "   -0.2607187   1.3221763  -0.7044087   0.362718   -0.16439708\n",
            "   -1.7998351   0.22627112]\n",
            "  [ 1.9465281  -0.82256967 -0.00592651 -1.5615349  -0.503084\n",
            "    0.7392138   0.70490855 -1.044943    0.64441454  0.84894454\n",
            "   -1.219218    0.273267  ]\n",
            "  [ 1.9774092  -0.6821039  -0.29982218 -1.9094588   0.0549\n",
            "    0.2563441   0.36530465 -1.0987011   0.45489788  0.8578551\n",
            "   -0.86232424  0.88569933]\n",
            "  [ 2.1545649   0.11877087 -0.5952123  -1.332606    0.18938562\n",
            "    0.0815248   0.4346147  -1.3930198   0.61682826  0.7461811\n",
            "   -1.3969834   0.375951  ]\n",
            "  [ 2.079873   -1.0115724  -0.06674839 -1.7161484  -0.3235722\n",
            "    0.42699414  0.15727282 -0.9226309   0.7335329   1.1033658\n",
            "   -0.808414    0.34804767]\n",
            "  [ 1.9249201  -0.47494617 -0.3234222  -1.5874783   0.14004795\n",
            "    0.02699189  1.2722764  -0.24925992  0.34846237  0.33141854\n",
            "   -1.8244469   0.41543618]\n",
            "  [ 1.8666958  -0.03293382 -0.69249475 -0.90063804  1.0100192\n",
            "   -0.0290674   1.1701194  -1.1676756   0.49637568  0.33759233\n",
            "   -1.7292742  -0.32871845]]\n",
            "\n",
            " [[ 1.4579602   0.14698833 -0.36668944 -1.8738185   0.63711125\n",
            "    0.48171633 -0.05711188 -1.695174    0.97382295  0.6034457\n",
            "   -0.9668982   0.6586476 ]\n",
            "  [ 1.6164229  -0.01671697 -0.6055091  -1.1187074   0.10000094\n",
            "    0.37500024  0.23985754 -1.3959258   0.97099614 -0.30255175\n",
            "   -1.4406197   1.5777527 ]\n",
            "  [ 2.2103481  -0.4879807  -0.63773936 -1.732691   -0.11485015\n",
            "    0.4856379   0.07455875 -1.3176677   0.7717822   0.20573853\n",
            "   -0.31167647  0.85453975]\n",
            "  [ 2.0195522  -0.35627702 -0.7159705  -1.479635    0.0946431\n",
            "    0.13844731  0.17073515 -1.5183649   1.006642    0.4567129\n",
            "   -0.76841664  0.9519318 ]\n",
            "  [ 2.38588    -0.69297457 -0.30358815  0.16795823 -0.21210814\n",
            "   -0.55615795  0.02335514 -1.9327736   0.23049565 -0.18747444\n",
            "   -0.14522535  1.2226131 ]\n",
            "  [ 2.4078088  -0.18988669 -0.2937     -1.1733875  -0.60806036\n",
            "    0.34767663  0.39429763 -1.7244813   0.48383906 -0.07915568\n",
            "   -0.38965714  0.8247068 ]\n",
            "  [ 1.7801162   0.08269709 -0.2376956  -1.9560654   0.33631396\n",
            "    0.31106737  0.6350777  -0.13224758  0.46679315 -0.99859923\n",
            "   -1.3767064   1.0892488 ]\n",
            "  [ 2.253073   -0.5937304  -0.5807867  -1.0680027   0.28591168\n",
            "   -0.02950997  0.11383144 -1.6647742   0.40231952 -0.28846228\n",
            "   -0.21703184  1.3871623 ]]], shape=(3, 8, 12), dtype=float32)\n"
          ]
        }
      ]
    },
    {
      "cell_type": "markdown",
      "source": [
        "Transformer"
      ],
      "metadata": {
        "id": "G49ZJPvO8HBL"
      }
    },
    {
      "cell_type": "markdown",
      "source": [
        "![image.png](data:image/png;base64,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)"
      ],
      "metadata": {
        "id": "iQdpHkA-_rnw"
      }
    },
    {
      "cell_type": "code",
      "source": [
        "class Transformer(tf.keras.Model):\n",
        "    def __init__(self, num_blocks, d_model, num_heads, hidden_dim, source_vocab_size,\n",
        "               target_vocab_size, max_input_len, max_target_len, dropout_rate=0.1):\n",
        "        super(Transformer,self).__init__()\n",
        "\n",
        "        self.encoder = Encoder(num_blocks, d_model, num_heads, hidden_dim, source_vocab_size,\n",
        "                           max_input_len, dropout_rate)\n",
        "\n",
        "        self.decoder = Decoder(num_blocks, d_model, num_heads, hidden_dim, target_vocab_size,\n",
        "                           max_target_len, dropout_rate)\n",
        "\n",
        "        # The final dense layer to generate logits from the decoder output.\n",
        "        self.output_layer = tf.keras.layers.Dense(target_vocab_size)\n",
        "    def call(self, input_seqs, target_input_seqs, training, encoder_mask,\n",
        "           decoder_mask, memory_mask):\n",
        "        encoder_output, encoder_attn_weights = self.encoder(input_seqs,\n",
        "                                                        training, encoder_mask)\n",
        "\n",
        "        decoder_output, decoder_attn_weights = self.decoder(encoder_output,\n",
        "                                                            target_input_seqs, training,\n",
        "                                                            decoder_mask, memory_mask)\n",
        "\n",
        "        return self.output_layer(decoder_output), encoder_attn_weights, decoder_attn_weights\n"
      ],
      "metadata": {
        "id": "jAdgbA348Gm3"
      },
      "execution_count": null,
      "outputs": []
    },
    {
      "cell_type": "code",
      "source": [
        "transformer = Transformer(\n",
        "    num_blocks = 6,\n",
        "    d_model = 12,\n",
        "    num_heads = 3,\n",
        "    hidden_dim = 48,\n",
        "    source_vocab_size = bpemb_vocab_size,\n",
        "    target_vocab_size = 7000, # assumed target vocabulary size.\n",
        "    max_input_len = padded_input_seqs.shape[1],\n",
        "    max_target_len = padded_target_input_seqs.shape[1])\n",
        "\n",
        "transformer_output, _, _ = transformer(padded_input_seqs,\n",
        "                                       padded_target_input_seqs, True,\n",
        "                                       enc_mask, dec_mask, memory_mask=enc_mask)\n",
        "print(f\"Transformer output {transformer_output.shape}:\")\n",
        "print(transformer_output) # If training, we would use this output to calculate losses."
      ],
      "metadata": {
        "colab": {
          "base_uri": "https://localhost:8080/"
        },
        "id": "ADpxky2MCLLG",
        "outputId": "97c44408-9eeb-4b7f-88f7-3ff4a04dc864"
      },
      "execution_count": null,
      "outputs": [
        {
          "output_type": "stream",
          "name": "stdout",
          "text": [
            "Transformer output (3, 8, 7000):\n",
            "tf.Tensor(\n",
            "[[[-6.40434772e-02 -8.38768706e-02  8.44978914e-02 ...  5.29928599e-04\n",
            "   -2.84923799e-02 -4.63392213e-03]\n",
            "  [-6.81813434e-02 -6.39475510e-02  4.70105186e-02 ... -5.13865948e-02\n",
            "   -1.18084624e-03  4.65213768e-02]\n",
            "  [-5.53910360e-02 -7.73879066e-02  7.72968978e-02 ...  6.11426681e-03\n",
            "   -1.31159350e-02  3.34027968e-02]\n",
            "  ...\n",
            "  [-8.61724839e-02 -5.45612723e-02  3.92506160e-02 ... -7.91839696e-03\n",
            "    1.43231004e-02  6.79058507e-02]\n",
            "  [-9.46652815e-02 -6.35275841e-02  2.80247461e-02 ... -7.34280702e-03\n",
            "    2.82103661e-02  6.86389133e-02]\n",
            "  [-8.75296742e-02 -5.56855612e-02  6.16036877e-02 ... -1.29825491e-02\n",
            "   -9.85953584e-03  3.81643884e-02]]\n",
            "\n",
            " [[-5.66048138e-02 -8.96669701e-02  7.63128996e-02 ... -2.13050265e-02\n",
            "   -2.68607419e-02  4.72136308e-03]\n",
            "  [-4.68187965e-02 -9.10151452e-02  5.22668064e-02 ... -3.00155561e-02\n",
            "    1.06594991e-03 -7.84094445e-05]\n",
            "  [-7.22164065e-02 -6.67552054e-02  7.47907087e-02 ...  1.28036626e-02\n",
            "   -2.13747565e-02  2.01532319e-02]\n",
            "  ...\n",
            "  [-5.07528782e-02 -9.92092639e-02  7.25629851e-02 ...  7.69731170e-03\n",
            "   -8.03846493e-03 -3.09910625e-04]\n",
            "  [-4.85056229e-02 -7.83852637e-02  5.58162667e-02 ... -2.20434777e-02\n",
            "    4.74596675e-03  2.22475044e-02]\n",
            "  [-4.74358723e-02 -4.68493029e-02  4.96504717e-02 ...  9.99093894e-03\n",
            "   -1.77215636e-02  3.92441917e-03]]\n",
            "\n",
            " [[-8.88742283e-02 -1.38448616e-02  6.54239208e-02 ... -6.33841334e-03\n",
            "   -4.96878959e-02  1.72938108e-02]\n",
            "  [-7.35499337e-02 -5.73151745e-02  3.64671834e-02 ... -2.65646800e-02\n",
            "   -1.79883782e-02  3.06789931e-02]\n",
            "  [-5.76451421e-02 -5.01519106e-02  3.82510833e-02 ... -4.81958594e-03\n",
            "   -1.46343224e-02  4.15385701e-02]\n",
            "  ...\n",
            "  [-5.04307114e-02 -7.72409663e-02  5.11183776e-02 ... -1.51198115e-02\n",
            "   -3.87049243e-02 -4.27200459e-03]\n",
            "  [-5.06383441e-02 -7.82009810e-02  6.08646907e-02 ... -2.65195780e-02\n",
            "    6.14466146e-04  4.02243175e-02]\n",
            "  [-6.62124529e-02 -5.83266467e-02  4.92747761e-02 ... -1.37053970e-02\n",
            "   -2.87570767e-02  2.87651122e-02]]], shape=(3, 8, 7000), dtype=float32)\n"
          ]
        }
      ]
    },
    {
      "cell_type": "markdown",
      "source": [
        "That's how I made a transformer from scratch. Now, it's useful to know how this architecture works in detail. But to train it to get impressive results is expensive in both terms of computing and data.\n",
        "\n",
        "That's why I should do transfer learning on the pre-trained transformer models in practice."
      ],
      "metadata": {
        "id": "q0-kdCXuDKkc"
      }
    }
  ]
}